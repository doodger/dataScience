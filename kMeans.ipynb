{
  "nbformat": 4,
  "nbformat_minor": 0,
  "metadata": {
    "colab": {
      "name": "kMeans.ipynb",
      "provenance": [],
      "collapsed_sections": [],
      "include_colab_link": true
    },
    "kernelspec": {
      "name": "python3",
      "display_name": "Python 3"
    }
  },
  "cells": [
    {
      "cell_type": "markdown",
      "metadata": {
        "id": "view-in-github",
        "colab_type": "text"
      },
      "source": [
        "<a href=\"https://colab.research.google.com/github/doodger/dataScience/blob/master/kMeans.ipynb\" target=\"_parent\"><img src=\"https://colab.research.google.com/assets/colab-badge.svg\" alt=\"Open In Colab\"/></a>"
      ]
    },
    {
      "cell_type": "markdown",
      "metadata": {
        "id": "ww9PtMpyXN_y",
        "colab_type": "text"
      },
      "source": [
        "In this notebook I attempt to implement the K-Means clustering algorithm and test its performance.\n",
        "\n",
        "The mathematical definition of the algorithm was taken on Wikipedia; its naive version is currently the only one implemented. For starting position of the k centroids, a random selection of k data points is taken.\n",
        "\n",
        "A simple 2-D data sets of nine points clustered around (0,0), (0,1) and (1,1) was used to debug the algorithm initially. A later section sees the Iris dataset used for testing, and the performance of my implementation is compared to SKLearn's version of K-Means"
      ]
    },
    {
      "cell_type": "code",
      "metadata": {
        "id": "ZhpI1vbi4Crg",
        "colab_type": "code",
        "outputId": "b59abe37-c31e-4d40-ab1a-5132064821e0",
        "colab": {
          "base_uri": "https://localhost:8080/",
          "height": 300
        }
      },
      "source": [
        "#This exercise is an attempt to implement K-means from scratch.\n",
        "#The first algorithm implementation tried will be \"naive k-means\", initialized\n",
        "#    with k initial points, into which all data points are inserted into\n",
        "#    k categories.\n",
        "#From this initialization, every step the mean of each group is calculated and \n",
        "#    the data points are reassigned, until there are no more change in centroid\n",
        "import numpy as np\n",
        "from scipy.spatial.distance import cdist\n",
        "import pandas as pd\n",
        "import matplotlib.pyplot as plt\n",
        "\n",
        "def kMeans(data, k):\n",
        "  #data is a numpy array of the n points in array form\n",
        "  n = data.shape[0]\n",
        "  #initialization; the k initial centroids are chosen randomly\n",
        "  m = data[np.random.choice(n,k,False)]#random index are picked without replacement\n",
        "  newM = np.zeros(m.shape) \n",
        "  \n",
        "  sortedData = np.zeros(n)\n",
        "  #iteration\n",
        "  delta=1 #arbitrary distance between\n",
        "  while(delta>0.000000000001):#For as long as changes in centroid are big enough\n",
        "\n",
        "    #assign every data point to a centroid\n",
        "    for row in range(data.shape[0]):\n",
        "      #calculate the euclidean distance to each centroid and find the closest one\n",
        "      point = data[row]\n",
        "      distance = cdist(point.reshape(1,2),m) #cdist function takes 1 by dim and k by dim arguments\n",
        "      closestCentroid = np.argmin(distance)\n",
        "      sortedData[row]=closestCentroid\n",
        "    #calculate new Centroids\n",
        "    for centroid in range(k):\n",
        "      indexOfCentroid = np.where(sortedData == centroid)\n",
        "      if(indexOfCentroid[0].shape[0]==0):\n",
        "          print(\"KMeans generated a group of size 0\")\n",
        "          return(0,0)\n",
        "      newM[centroid] = sum(data[indexOfCentroid])/indexOfCentroid[0].shape[0]\n",
        "    \n",
        "    delta = np.linalg.norm(newM-m)\n",
        "    m = newM\n",
        "    for row in range(data.shape[0]): #final pass to assign the proper group of indexes\n",
        "      #calculate the euclidean distance to each centroid and find the closest one\n",
        "      point = data[row]\n",
        "      distance = cdist(point.reshape(1,2),m) #cdist function takes 1 by dim and k by dim arguments\n",
        "      closestCentroid = np.argmin(distance)\n",
        "      sortedData[row]=closestCentroid\n",
        "  return(sortedData,m)\n",
        "  #return(sortedData,centroids)\n",
        "\n",
        "def generateKMeansGraph2d(data,centroids,title=\"KMeans plot of data and centroids\", color='b'):\n",
        "  #function to generate a graph showing the data points divided into groups according to their centroids\n",
        "  #Only for 2d datasets\n",
        "\n",
        "  if (data[0].shape[0]!=2):\n",
        "    print(\"Function only for 2d data!\")\n",
        "    return(0)\n",
        "\n",
        "  x = []\n",
        "  y = []\n",
        "  [[x.append(row[0]),y.append(row[1])] for row in data]  \n",
        "\n",
        "  xCentroid = []\n",
        "  yCentroid = []\n",
        "  [[xCentroid.append(row[0]),yCentroid.append(row[1])] for row in centroids]  \n",
        "  fig = plt.figure()\n",
        "  ax1 = fig.add_subplot(111)\n",
        "  dataScatter = ax1.scatter(x, y, s=10, c=color, marker=\"s\", label='Data')\n",
        "  centroidScatter = ax1.scatter(xCentroid,yCentroid, s=50, c='r', marker=\"x\", label='Centroids')\n",
        "  plt.title(title)\n",
        "  plt.legend(handles=[dataScatter,centroidScatter])\n",
        "  plt.show()\n",
        "  \n",
        "  return(0)\n",
        "\n",
        "\n",
        "\n",
        "\n",
        "tData = np.array([[0,0],[1/10,1/10],[0,1/10],[0,1],[0,9/10],[1/10,9/10],[1,1],[9/10,1],[9/10,9/10]])\n",
        "sortedData,centroids = kMeans(tData,3)\n",
        "generateKMeansGraph2d(tData,centroids)"
      ],
      "execution_count": 8,
      "outputs": [
        {
          "output_type": "display_data",
          "data": {
            "image/png": "[encoded data removed]",
            "text/plain": [
              "<Figure size 432x288 with 1 Axes>"
            ]
          },
          "metadata": {
            "tags": []
          }
        },
        {
          "output_type": "execute_result",
          "data": {
            "text/plain": [
              "0"
            ]
          },
          "metadata": {
            "tags": []
          },
          "execution_count": 8
        }
      ]
    },
    {
      "cell_type": "markdown",
      "metadata": {
        "id": "zdg_1SrBYXn-",
        "colab_type": "text"
      },
      "source": [
        "Up next, a compare and contrast session with SKLearn using the Iris dataset as a first playground for testing."
      ]
    },
    {
      "cell_type": "code",
      "metadata": {
        "id": "LENjDSYJ7r8J",
        "colab_type": "code",
        "outputId": "a107ff19-2696-4544-b1a5-72678e85e220",
        "colab": {
          "base_uri": "https://localhost:8080/",
          "height": 957
        }
      },
      "source": [
        "from sklearn import datasets\n",
        "from sklearn.cluster import KMeans as sklearnKMeans #to contrast with my own KMeans\n",
        "\n",
        "iris = datasets.load_iris() #loading the iris data set\n",
        "#in order to compare my KMeans vs SKLearn's KMeans, the first two feature will be taken\n",
        "x = iris.data[:, 0] #Sepal length\n",
        "y = iris.data[:, 1] #Sepal width\n",
        "targetCategory = iris.target #array of category for each flower, used later for color\n",
        "\n",
        "fig = plt.figure()\n",
        "ax1 = fig.add_subplot(111)\n",
        "ax1.scatter(x, y, s=10, c=targetCategory, marker=\"s\", label='first')\n",
        "plt.title(\"sepal length vs sepal width in Iris dataset\")\n",
        "plt.xlabel(\"sepal length\")\n",
        "plt.ylabel(\"sepal width\")\n",
        "plt.show()\n",
        "\n",
        "tData = np.array(list(zip(x,y)))\n",
        "sortedData,centroids = kMeans(tData,3)\n",
        "generateKMeansGraph2d(tData,centroids, color=targetCategory, title=\"My own implementation of KMeans on iris dataset\")\n",
        "\n",
        "skSortedData = sklearnKMeans(n_clusters = 3).fit(tData)\n",
        "skSortedData.cluster_centers_\n",
        "generateKMeansGraph2d(tData,skSortedData.cluster_centers_, color = targetCategory, title=\"SKLearn version of kMeans on iris datasets\")\n"
      ],
      "execution_count": 9,
      "outputs": [
        {
          "output_type": "stream",
          "text": [
            "[0 0 0 0 0 0 0 0 0 0 0 0 0 0 0 0 0 0 0 0 0 0 0 0 0 0 0 0 0 0 0 0 0 0 0 0 0\n",
            " 0 0 0 0 0 0 0 0 0 0 0 0 0 1 1 1 1 1 1 1 1 1 1 1 1 1 1 1 1 1 1 1 1 1 1 1 1\n",
            " 1 1 1 1 1 1 1 1 1 1 1 1 1 1 1 1 1 1 1 1 1 1 1 1 1 1 2 2 2 2 2 2 2 2 2 2 2\n",
            " 2 2 2 2 2 2 2 2 2 2 2 2 2 2 2 2 2 2 2 2 2 2 2 2 2 2 2 2 2 2 2 2 2 2 2 2 2\n",
            " 2 2]\n"
          ],
          "name": "stdout"
        },
        {
          "output_type": "display_data",
          "data": {
            "image/png": "[encoded data removed]",
            "text/plain": [
              "<Figure size 432x288 with 1 Axes>"
            ]
          },
          "metadata": {
            "tags": []
          }
        },
        {
          "output_type": "display_data",
          "data": {
            "image/png": "[encoded data removed]",
            "text/plain": [
              "<Figure size 432x288 with 1 Axes>"
            ]
          },
          "metadata": {
            "tags": []
          }
        },
        {
          "output_type": "display_data",
          "data": {
            "image/png": "[encoded data removed]",
            "text/plain": [
              "<Figure size 432x288 with 1 Axes>"
            ]
          },
          "metadata": {
            "tags": []
          }
        },
        {
          "output_type": "execute_result",
          "data": {
            "text/plain": [
              "0"
            ]
          },
          "metadata": {
            "tags": []
          },
          "execution_count": 9
        }
      ]
    },
    {
      "cell_type": "markdown",
      "metadata": {
        "id": "wwGgCBjqWy0Y",
        "colab_type": "text"
      },
      "source": [
        "My implementation of K-Means proposes centroids that are not too far from their SKLearn version. Quantitatively, how do the predictive power of both method compare? As an unsupervised method, it is difficult to establish a good metric to verify this. Because the iris dataset labels are known, purity is used as a measuring tool"
      ]
    },
    {
      "cell_type": "code",
      "metadata": {
        "id": "gnAljXMAWxPg",
        "colab_type": "code",
        "colab": {}
      },
      "source": [
        "from sklearn.model_selection import train_test_split\n",
        "\n",
        "X = iris.data[:, 0:2] #Sepal length and width\n",
        "y = iris.target\n",
        "\n",
        "X_train, X_test, y_train, y_test = train_test_split(X, y, test_size = 0.2, random_state=0)\n",
        "\n",
        "#SKLearn version of K-Means clustering\n",
        "sklearnKMeansResults = sklearnKMeans(n_clusters=3,random_state=0).fit(X_train) #y_train unused for K-Means\n"
      ],
      "execution_count": 0,
      "outputs": []
    },
    {
      "cell_type": "markdown",
      "metadata": {
        "id": "RmCk9_4uPHZz",
        "colab_type": "text"
      },
      "source": [
        "There are many things that can be done to make my implementation of the algorithm more robust, and to test its performance better\n",
        "\n",
        "*   Perhaps I could refactor code so the final pass is not required\n",
        "*   At current it is a possibility that the algorithm will generate an iteration with a category containing zero points, making the algorithm crash. A safer solution to this should be searched\n",
        "*   Right now only Naive KMeans is implemented, with a randomized initial centroid positions. Alternative or better version of the algorithm could be implemented\n",
        "*   More rigorous tests on datasets such as Iris where the predictive power of my implementation of KMeans is determined, and compared to SKLearn's performances\n",
        "*   Testing the algorithm for k values other than 3, and for data in other dimension than 2D\n",
        "*   Data must be standardized before KMeans is used\n"
      ]
    },
    {
      "cell_type": "code",
      "metadata": {
        "id": "F2yRh_IyXKpl",
        "colab_type": "code",
        "colab": {}
      },
      "source": [
        ""
      ],
      "execution_count": 0,
      "outputs": []
    }
  ]
}