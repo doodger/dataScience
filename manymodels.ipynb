{
  "nbformat": 4,
  "nbformat_minor": 0,
  "metadata": {
    "colab": {
      "name": "manymodels.ipynb",
      "provenance": [],
      "include_colab_link": true
    },
    "kernelspec": {
      "name": "python3",
      "display_name": "Python 3"
    }
  },
  "cells": [
    {
      "cell_type": "markdown",
      "metadata": {
        "id": "view-in-github",
        "colab_type": "text"
      },
      "source": [
        "<a href=\"https://colab.research.google.com/github/doodger/dataScience/blob/master/manymodels.ipynb\" target=\"_parent\"><img src=\"https://colab.research.google.com/assets/colab-badge.svg\" alt=\"Open In Colab\"/></a>"
      ]
    },
    {
      "cell_type": "markdown",
      "metadata": {
        "id": "troG5imwQ_I5",
        "colab_type": "text"
      },
      "source": [
        "In this exercise I will use a few different techniques to build predictors for the wisconcin cancer database. These shall be: a decision tree, random forest, logistic regression and naive bayes"
      ]
    },
    {
      "cell_type": "code",
      "metadata": {
        "id": "epaZXc1XQygu",
        "colab_type": "code",
        "colab": {}
      },
      "source": [
        "from sklearn.datasets import load_breast_cancer\n",
        "from sklearn.model_selection import train_test_split\n",
        "#TODO split the data into training and validation, check accuracy for different types of trees\n",
        "X, y = load_breast_cancer(return_X_y=True) #load dataset\n",
        "X_train, X_test, y_train, y_test = train_test_split(X, y, test_size=0.2, random_state = 0) #20% of data kept for testing, frozen rng seed\n",
        "\n"
      ],
      "execution_count": 0,
      "outputs": []
    },
    {
      "cell_type": "code",
      "metadata": {
        "id": "c5QGCrOj7Jrp",
        "colab_type": "code",
        "colab": {
          "base_uri": "https://localhost:8080/",
          "height": 265
        },
        "outputId": "1e44e88d-644f-4c77-af42-365206d6b58f"
      },
      "source": [
        "from sklearn import tree\n",
        "model1 = tree.DecisionTreeClassifier() #unspecificed decision tree\n",
        "model1 = model1.fit(X_train,y_train) #fit model\n",
        "tree.plot_tree(model1)\n",
        "model1.score(X_test, y_test)"
      ],
      "execution_count": 5,
      "outputs": [
        {
          "output_type": "execute_result",
          "data": {
            "text/plain": [
              "0.9122807017543859"
            ]
          },
          "metadata": {
            "tags": []
          },
          "execution_count": 5
        },
        {
          "output_type": "display_data",
          "data": {
            "image/png": "[encoded data removed]",
            "text/plain": [
              "<Figure size 432x288 with 1 Axes>"
            ]
          },
          "metadata": {
            "tags": []
          }
        }
      ]
    },
    {
      "cell_type": "code",
      "metadata": {
        "id": "Y2XJaRBxQ5zB",
        "colab_type": "code",
        "colab": {}
      },
      "source": [
        "from sklearn.ensemble import RandomForestClassifier\n",
        "model2 = "
      ],
      "execution_count": 0,
      "outputs": []
    },
    {
      "cell_type": "markdown",
      "metadata": {
        "id": "1LYQCFXc7klb",
        "colab_type": "text"
      },
      "source": [
        "TODO: \n",
        "\n",
        "*   Overfitting test\n",
        "*   \n",
        "\n"
      ]
    }
  ]
}