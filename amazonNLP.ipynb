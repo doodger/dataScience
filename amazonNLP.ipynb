{
  "nbformat": 4,
  "nbformat_minor": 0,
  "metadata": {
    "colab": {
      "name": "amazonNLP.ipynb",
      "provenance": [],
      "collapsed_sections": [],
      "authorship_tag": "ABX9TyMmVIdcf512XgpGn5yz5QEQ",
      "include_colab_link": true
    },
    "kernelspec": {
      "name": "python3",
      "display_name": "Python 3"
    }
  },
  "cells": [
    {
      "cell_type": "markdown",
      "metadata": {
        "id": "view-in-github",
        "colab_type": "text"
      },
      "source": [
        "<a href=\"https://colab.research.google.com/github/doodger/dataScience/blob/development/amazonNLP.ipynb\" target=\"_parent\"><img src=\"https://colab.research.google.com/assets/colab-badge.svg\" alt=\"Open In Colab\"/></a>"
      ]
    },
    {
      "cell_type": "markdown",
      "metadata": {
        "id": "FpjL0QJ618ka",
        "colab_type": "text"
      },
      "source": [
        "Thoughts: not doing data exploration is stupid, no idea what MSE of 1 mean.\n",
        "Unbalanced classes; undersampling possible?"
      ]
    },
    {
      "cell_type": "code",
      "metadata": {
        "id": "Eajvm0X6DaQf",
        "colab_type": "code",
        "colab": {}
      },
      "source": [
        "%matplotlib inline\n",
        "\n",
        "import pandas as pd\n",
        "import numpy as np\n",
        "import matplotlib.pyplot as plt"
      ],
      "execution_count": 0,
      "outputs": []
    },
    {
      "cell_type": "code",
      "metadata": {
        "id": "h81tdY872-iP",
        "colab_type": "code",
        "colab": {}
      },
      "source": [
        "!apt-get install openjdk-8-jdk-headless -qq > /dev/null\n",
        "!wget -q http://www-eu.apache.org/dist/spark/spark-2.4.5/spark-2.4.5-bin-hadoop2.7.tgz\n",
        "!tar xf spark-2.4.5-bin-hadoop2.7.tgz\n",
        "!pip install -q findspark"
      ],
      "execution_count": 0,
      "outputs": []
    },
    {
      "cell_type": "code",
      "metadata": {
        "id": "JxJAj9xU3Ewt",
        "colab_type": "code",
        "colab": {}
      },
      "source": [
        "import os\n",
        "os.environ[\"JAVA_HOME\"] = \"/usr/lib/jvm/java-8-openjdk-amd64\"\n",
        "os.environ[\"SPARK_HOME\"] = \"/content/spark-2.4.5-bin-hadoop2.7\""
      ],
      "execution_count": 0,
      "outputs": []
    },
    {
      "cell_type": "code",
      "metadata": {
        "id": "dwhPJoRuFP7o",
        "colab_type": "code",
        "colab": {}
      },
      "source": [
        "import findspark\n",
        "findspark.init()# SPARK_HOMEfrom pyspark.sql import SparkSession\n",
        "from pyspark.sql import SparkSession\n",
        "spark = SparkSession.builder.master(\"local[*]\").getOrCreate()"
      ],
      "execution_count": 0,
      "outputs": []
    },
    {
      "cell_type": "code",
      "metadata": {
        "id": "nSpSzSirE6ue",
        "colab_type": "code",
        "outputId": "9c7c2022-4961-4ff6-e289-529bba75c54e",
        "colab": {
          "base_uri": "https://localhost:8080/",
          "height": 202
        }
      },
      "source": [
        "df = spark.createDataFrame([{\"hello\": \"world\"} for x in range(1000)])\n",
        "df.show(3)"
      ],
      "execution_count": 100,
      "outputs": [
        {
          "output_type": "stream",
          "text": [
            "/content/spark-2.4.5-bin-hadoop2.7/python/pyspark/sql/session.py:346: UserWarning: inferring schema from dict is deprecated,please use pyspark.sql.Row instead\n",
            "  warnings.warn(\"inferring schema from dict is deprecated,\"\n"
          ],
          "name": "stderr"
        },
        {
          "output_type": "stream",
          "text": [
            "+-----+\n",
            "|hello|\n",
            "+-----+\n",
            "|world|\n",
            "|world|\n",
            "|world|\n",
            "+-----+\n",
            "only showing top 3 rows\n",
            "\n"
          ],
          "name": "stdout"
        }
      ]
    },
    {
      "cell_type": "code",
      "metadata": {
        "id": "zEr9X9BvHys9",
        "colab_type": "code",
        "outputId": "9afee002-dc43-4b1d-f991-2f768bc8180a",
        "colab": {
          "base_uri": "https://localhost:8080/",
          "height": 34
        }
      },
      "source": [
        "from google.colab import drive\n",
        "drive.mount('/content/drive')"
      ],
      "execution_count": 101,
      "outputs": [
        {
          "output_type": "stream",
          "text": [
            "Drive already mounted at /content/drive; to attempt to forcibly remount, call drive.mount(\"/content/drive\", force_remount=True).\n"
          ],
          "name": "stdout"
        }
      ]
    },
    {
      "cell_type": "code",
      "metadata": {
        "id": "EsnGeO4wKYN9",
        "colab_type": "code",
        "colab": {}
      },
      "source": [
        "#!ls drive/'My Drive'\n",
        "from pyspark.sql import SQLContext\n",
        "from pyspark import SparkContext\n",
        "sc = SparkContext.getOrCreate()\n",
        "sqlContext = SQLContext(sc)\n",
        "df = spark.read.json(\"drive/My Drive/Video_Games_5.json\")"
      ],
      "execution_count": 0,
      "outputs": []
    },
    {
      "cell_type": "code",
      "metadata": {
        "id": "DoVNHeq8KhEo",
        "colab_type": "code",
        "outputId": "61479513-201d-41a6-f321-d60ebb10ae03",
        "colab": {
          "base_uri": "https://localhost:8080/",
          "height": 34
        }
      },
      "source": [
        "!ls \"drive/My Drive/Video_Games_5.json\""
      ],
      "execution_count": 103,
      "outputs": [
        {
          "output_type": "stream",
          "text": [
            "'drive/My Drive/Video_Games_5.json'\n"
          ],
          "name": "stdout"
        }
      ]
    },
    {
      "cell_type": "code",
      "metadata": {
        "id": "tpVLjgwi09pM",
        "colab_type": "code",
        "outputId": "15536c7f-7c0f-461d-955f-e32ebd14a758",
        "colab": {
          "base_uri": "https://localhost:8080/",
          "height": 454
        }
      },
      "source": [
        "df.show()"
      ],
      "execution_count": 104,
      "outputs": [
        {
          "output_type": "stream",
          "text": [
            "+----------+--------+-------+--------------------+-----------+--------------+--------------------+--------------------+--------------+\n",
            "|      asin| helpful|overall|          reviewText| reviewTime|    reviewerID|        reviewerName|             summary|unixReviewTime|\n",
            "+----------+--------+-------+--------------------+-----------+--------------+--------------------+--------------------+--------------+\n",
            "|0700099867| [8, 12]|    1.0|Installing the ga...| 07 9, 2012|A2HD75EMZR8QLN|                 123|Pay to unlock con...|    1341792000|\n",
            "|0700099867|  [0, 0]|    4.0|If you like rally...|06 30, 2013|A3UR8NLLY1ZHCX|Alejandro Henao \"...|     Good rally game|    1372550400|\n",
            "|0700099867|  [0, 0]|    1.0|1st shipment rece...|06 28, 2014|A1INA0F5CWW3J4|Amazon Shopper \"M...|           Wrong key|    1403913600|\n",
            "|0700099867| [7, 10]|    3.0|I got this versio...|09 14, 2011|A1DLMTOTHQ4AST|            ampgreen|awesome game, if ...|    1315958400|\n",
            "|0700099867|  [2, 2]|    4.0|I had Dirt 2 on X...|06 14, 2011|A361M14PU2GUEG|Angry Ryan \"Ryan ...|              DIRT 3|    1308009600|\n",
            "|0700099867|  [0, 0]|    4.0|Overall this is a...|05 11, 2013|A2UTRVO4FDCBH6|              A.R.G.|Good racing game,...|    1368230400|\n",
            "|0700099867|[11, 13]|    5.0|Loved playing Dir...|08 14, 2011| AN3YYDZAS3O1Y|                 Bob|A step up from Di...|    1313280000|\n",
            "|0700099867|  [1, 4]|    1.0|I can't tell you ...|11 24, 2012| AQTC623NCESZW|       Chesty Puller|Crash 3 is correc...|    1353715200|\n",
            "|0700099867|  [0, 1]|    4.0|I initially gave ...|11 14, 2012|A1QJJU33VNC4S7|              D@rkFX|A great game ruin...|    1352851200|\n",
            "|0700099867|  [1, 1]|    2.0|I still haven't f...| 02 8, 2014|A2JLT2WY0F2HVI|       D. Sweetapple|Couldn't get this...|    1391817600|\n",
            "|0700099867|  [1, 1]|    5.0|I'm not quite fin...|06 28, 2011|A38NXTZUFB1O2K|                FiSH| Best in the series!|    1309219200|\n",
            "|0700099867|  [0, 0]|    5.0|I have been playi...|10 19, 2011| ANW6EGY12V5XS|         Henri Savin|   A 5 stars winner!|    1318982400|\n",
            "|0700099867|  [0, 1]|    5.0|Dirt 3 on DVDi co...|12 29, 2013| AHT34BRYFBFT1|              hewimp|                Cars|    1388275200|\n",
            "|0700099867|  [0, 0]|    1.0|I bought this and...|06 30, 2014|A248LSBZT4P38V|   Joseph R. Kennedy|It might have bee...|    1404086400|\n",
            "|0700099867|  [0, 0]|    1.0|Crashed in Vista....|04 30, 2013| AFS6WERAP409A|Lisa Gamuciello \"...|Don't waste your ...|    1367280000|\n",
            "|0700099867|  [1, 1]|    1.0|This game was a r...|07 15, 2013|A14L115LBOB0A5|       MotoRider42HC|Not as good as Di...|    1373846400|\n",
            "|0700099867|  [1, 1]|    4.0|In today's game m...|03 19, 2012| A20DRRKAN5Z9Q|           Moviedude|An overlooked gem...|    1332115200|\n",
            "|0700099867|  [0, 0]|    3.0|This really is a ...|06 28, 2013|A2VYL51WQXC5KK|    Old-Lumens \"O-L\"|Better than Dirt ...|    1372377600|\n",
            "|0700099867|  [2, 5]|    1.0|This game is bug ...|12 26, 2011|A10AYT89XSCE46|        Paulo Coelho|Colin McRae CRASH 3!|    1324857600|\n",
            "|0700099867|  [3, 3]|    1.0|DiRT 2 was like t...|11 23, 2013|A29KT7UP7DLM1J|        Peter Ostman|The first one was...|    1385164800|\n",
            "+----------+--------+-------+--------------------+-----------+--------------+--------------------+--------------------+--------------+\n",
            "only showing top 20 rows\n",
            "\n"
          ],
          "name": "stdout"
        }
      ]
    },
    {
      "cell_type": "code",
      "metadata": {
        "id": "d3tNPnnq6s3S",
        "colab_type": "code",
        "colab": {
          "base_uri": "https://localhost:8080/",
          "height": 517
        },
        "outputId": "cddd8b1c-a439-4653-814d-a04f04c29638"
      },
      "source": [
        "df.select(\"overall\").describe().show()\n",
        "bins, counts = df.select('overall').rdd.flatMap(lambda x: x).histogram(5)\n",
        "print(bins)\n",
        "print(counts)\n",
        "plt.hist(bins[:-1], bins=bins, weights=counts)\n"
      ],
      "execution_count": 164,
      "outputs": [
        {
          "output_type": "stream",
          "text": [
            "+-------+------------------+\n",
            "|summary|           overall|\n",
            "+-------+------------------+\n",
            "|  count|            231780|\n",
            "|   mean| 4.086396582966606|\n",
            "| stddev|1.2023296087789064|\n",
            "|    min|               1.0|\n",
            "|    max|               5.0|\n",
            "+-------+------------------+\n",
            "\n",
            "[1.0, 1.8, 2.6, 3.4000000000000004, 4.2, 5.0]\n",
            "[14853, 13663, 28275, 54804, 120185]\n"
          ],
          "name": "stdout"
        },
        {
          "output_type": "execute_result",
          "data": {
            "text/plain": [
              "(array([ 14853.,  13663.,  28275.,  54804., 120185.]),\n",
              " array([1. , 1.8, 2.6, 3.4, 4.2, 5. ]),\n",
              " <a list of 5 Patch objects>)"
            ]
          },
          "metadata": {
            "tags": []
          },
          "execution_count": 164
        },
        {
          "output_type": "display_data",
          "data": {
            "image/png": "[encoded data removed]",
            "text/plain": [
              "<Figure size 432x288 with 1 Axes>"
            ]
          },
          "metadata": {
            "tags": []
          }
        }
      ]
    },
    {
      "cell_type": "code",
      "metadata": {
        "id": "WrSx3HuL1W93",
        "colab_type": "code",
        "colab": {}
      },
      "source": [
        "from pyspark.ml.feature import Tokenizer, RegexTokenizer,StopWordsRemover\n",
        "from pyspark.sql.functions import col, udf\n",
        "from pyspark.sql.types import IntegerType\n",
        "\n",
        "tokenizer = Tokenizer(inputCol = \"reviewText\", outputCol = \"words\")\n",
        "\n",
        "tokenized = tokenizer.transform(df)\n",
        "\n",
        "remover = StopWordsRemover(inputCol=\"words\", outputCol = \"filtered\")\n",
        "transformed =  remover.transform(tokenized)\n"
      ],
      "execution_count": 0,
      "outputs": []
    },
    {
      "cell_type": "code",
      "metadata": {
        "id": "HShcsK2K2Vgs",
        "colab_type": "code",
        "outputId": "45db7b06-f057-4313-ab38-5f899e07eef1",
        "colab": {
          "base_uri": "https://localhost:8080/",
          "height": 454
        }
      },
      "source": [
        "transformed.show()"
      ],
      "execution_count": 106,
      "outputs": [
        {
          "output_type": "stream",
          "text": [
            "+----------+--------+-------+--------------------+-----------+--------------+--------------------+--------------------+--------------+--------------------+--------------------+\n",
            "|      asin| helpful|overall|          reviewText| reviewTime|    reviewerID|        reviewerName|             summary|unixReviewTime|               words|            filtered|\n",
            "+----------+--------+-------+--------------------+-----------+--------------+--------------------+--------------------+--------------+--------------------+--------------------+\n",
            "|0700099867| [8, 12]|    1.0|Installing the ga...| 07 9, 2012|A2HD75EMZR8QLN|                 123|Pay to unlock con...|    1341792000|[installing, the,...|[installing, game...|\n",
            "|0700099867|  [0, 0]|    4.0|If you like rally...|06 30, 2013|A3UR8NLLY1ZHCX|Alejandro Henao \"...|     Good rally game|    1372550400|[if, you, like, r...|[like, rally, car...|\n",
            "|0700099867|  [0, 0]|    1.0|1st shipment rece...|06 28, 2014|A1INA0F5CWW3J4|Amazon Shopper \"M...|           Wrong key|    1403913600|[1st, shipment, r...|[1st, shipment, r...|\n",
            "|0700099867| [7, 10]|    3.0|I got this versio...|09 14, 2011|A1DLMTOTHQ4AST|            ampgreen|awesome game, if ...|    1315958400|[i, got, this, ve...|[got, version, in...|\n",
            "|0700099867|  [2, 2]|    4.0|I had Dirt 2 on X...|06 14, 2011|A361M14PU2GUEG|Angry Ryan \"Ryan ...|              DIRT 3|    1308009600|[i, had, dirt, 2,...|[dirt, 2, xbox, 3...|\n",
            "|0700099867|  [0, 0]|    4.0|Overall this is a...|05 11, 2013|A2UTRVO4FDCBH6|              A.R.G.|Good racing game,...|    1368230400|[overall, this, i...|[overall, well, d...|\n",
            "|0700099867|[11, 13]|    5.0|Loved playing Dir...|08 14, 2011| AN3YYDZAS3O1Y|                 Bob|A step up from Di...|    1313280000|[loved, playing, ...|[loved, playing, ...|\n",
            "|0700099867|  [1, 4]|    1.0|I can't tell you ...|11 24, 2012| AQTC623NCESZW|       Chesty Puller|Crash 3 is correc...|    1353715200|[i, can't, tell, ...|[tell, piece, dog...|\n",
            "|0700099867|  [0, 1]|    4.0|I initially gave ...|11 14, 2012|A1QJJU33VNC4S7|              D@rkFX|A great game ruin...|    1352851200|[i, initially, ga...|[initially, gave,...|\n",
            "|0700099867|  [1, 1]|    2.0|I still haven't f...| 02 8, 2014|A2JLT2WY0F2HVI|       D. Sweetapple|Couldn't get this...|    1391817600|[i, still, haven'...|[still, figured, ...|\n",
            "|0700099867|  [1, 1]|    5.0|I'm not quite fin...|06 28, 2011|A38NXTZUFB1O2K|                FiSH| Best in the series!|    1309219200|[i'm, not, quite,...|[quite, finished,...|\n",
            "|0700099867|  [0, 0]|    5.0|I have been playi...|10 19, 2011| ANW6EGY12V5XS|         Henri Savin|   A 5 stars winner!|    1318982400|[i, have, been, p...|[playing, car, ra...|\n",
            "|0700099867|  [0, 1]|    5.0|Dirt 3 on DVDi co...|12 29, 2013| AHT34BRYFBFT1|              hewimp|                Cars|    1388275200|[dirt, 3, on, dvd...|[dirt, 3, dvdi, c...|\n",
            "|0700099867|  [0, 0]|    1.0|I bought this and...|06 30, 2014|A248LSBZT4P38V|   Joseph R. Kennedy|It might have bee...|    1404086400|[i, bought, this,...|[bought, key, wor...|\n",
            "|0700099867|  [0, 0]|    1.0|Crashed in Vista....|04 30, 2013| AFS6WERAP409A|Lisa Gamuciello \"...|Don't waste your ...|    1367280000|[crashed, in, vis...|[crashed, vista.,...|\n",
            "|0700099867|  [1, 1]|    1.0|This game was a r...|07 15, 2013|A14L115LBOB0A5|       MotoRider42HC|Not as good as Di...|    1373846400|[this, game, was,...|[game, rip-off., ...|\n",
            "|0700099867|  [1, 1]|    4.0|In today's game m...|03 19, 2012| A20DRRKAN5Z9Q|           Moviedude|An overlooked gem...|    1332115200|[in, today's, gam...|[today's, game, m...|\n",
            "|0700099867|  [0, 0]|    3.0|This really is a ...|06 28, 2013|A2VYL51WQXC5KK|    Old-Lumens \"O-L\"|Better than Dirt ...|    1372377600|[this, really, is...|[really, step, di...|\n",
            "|0700099867|  [2, 5]|    1.0|This game is bug ...|12 26, 2011|A10AYT89XSCE46|        Paulo Coelho|Colin McRae CRASH 3!|    1324857600|[this, game, is, ...|[game, bug, landf...|\n",
            "|0700099867|  [3, 3]|    1.0|DiRT 2 was like t...|11 23, 2013|A29KT7UP7DLM1J|        Peter Ostman|The first one was...|    1385164800|[dirt, 2, was, li...|[dirt, 2, like, t...|\n",
            "+----------+--------+-------+--------------------+-----------+--------------+--------------------+--------------------+--------------+--------------------+--------------------+\n",
            "only showing top 20 rows\n",
            "\n"
          ],
          "name": "stdout"
        }
      ]
    },
    {
      "cell_type": "code",
      "metadata": {
        "id": "E687y8zn2xb0",
        "colab_type": "code",
        "colab": {}
      },
      "source": [
        "from pyspark.ml.linalg import Vectors\n",
        "from pyspark.ml.feature import VectorAssembler, OneHotEncoderEstimator, StringIndexer, CountVectorizer\n",
        "countVectors = CountVectorizer(inputCol=\"filtered\", outputCol = \"countedWords\", vocabSize=2000)\n",
        "model = countVectors.fit(transformed)"
      ],
      "execution_count": 0,
      "outputs": []
    },
    {
      "cell_type": "code",
      "metadata": {
        "id": "Q1ORWRoC7q0z",
        "colab_type": "code",
        "colab": {}
      },
      "source": [
        "newDf = model.transform(transformed)\n"
      ],
      "execution_count": 0,
      "outputs": []
    },
    {
      "cell_type": "code",
      "metadata": {
        "id": "dzoD0Hb04DfL",
        "colab_type": "code",
        "outputId": "9b82e6bb-fe90-478e-df36-f3ad8dbe947b",
        "colab": {
          "base_uri": "https://localhost:8080/",
          "height": 474
        }
      },
      "source": [
        "newDf.show()"
      ],
      "execution_count": 109,
      "outputs": [
        {
          "output_type": "stream",
          "text": [
            "+----------+--------+-------+--------------------+-----------+--------------+--------------------+--------------------+--------------+--------------------+--------------------+--------------------+\n",
            "|      asin| helpful|overall|          reviewText| reviewTime|    reviewerID|        reviewerName|             summary|unixReviewTime|               words|            filtered|        countedWords|\n",
            "+----------+--------+-------+--------------------+-----------+--------------+--------------------+--------------------+--------------+--------------------+--------------------+--------------------+\n",
            "|0700099867| [8, 12]|    1.0|Installing the ga...| 07 9, 2012|A2HD75EMZR8QLN|                 123|Pay to unlock con...|    1341792000|[installing, the,...|[installing, game...|(2000,[1,2,3,5,7,...|\n",
            "|0700099867|  [0, 0]|    4.0|If you like rally...|06 30, 2013|A3UR8NLLY1ZHCX|Alejandro Henao \"...|     Good rally game|    1372550400|[if, you, like, r...|[like, rally, car...|(2000,[1,2,3,12,3...|\n",
            "|0700099867|  [0, 0]|    1.0|1st shipment rece...|06 28, 2014|A1INA0F5CWW3J4|Amazon Shopper \"M...|           Wrong key|    1403913600|[1st, shipment, r...|[1st, shipment, r...|(2000,[1,8,45,130...|\n",
            "|0700099867| [7, 10]|    3.0|I got this versio...|09 14, 2011|A1DLMTOTHQ4AST|            ampgreen|awesome game, if ...|    1315958400|[i, got, this, ve...|[got, version, in...|(2000,[1,2,3,4,5,...|\n",
            "|0700099867|  [2, 2]|    4.0|I had Dirt 2 on X...|06 14, 2011|A361M14PU2GUEG|Angry Ryan \"Ryan ...|              DIRT 3|    1308009600|[i, had, dirt, 2,...|[dirt, 2, xbox, 3...|(2000,[1,2,5,9,10...|\n",
            "|0700099867|  [0, 0]|    4.0|Overall this is a...|05 11, 2013|A2UTRVO4FDCBH6|              A.R.G.|Good racing game,...|    1368230400|[overall, this, i...|[overall, well, d...|(2000,[1,6,8,11,1...|\n",
            "|0700099867|[11, 13]|    5.0|Loved playing Dir...|08 14, 2011| AN3YYDZAS3O1Y|                 Bob|A step up from Di...|    1313280000|[loved, playing, ...|[loved, playing, ...|(2000,[0,1,3,20,2...|\n",
            "|0700099867|  [1, 4]|    1.0|I can't tell you ...|11 24, 2012| AQTC623NCESZW|       Chesty Puller|Crash 3 is correc...|    1353715200|[i, can't, tell, ...|[tell, piece, dog...|(2000,[0,1,2,3,4,...|\n",
            "|0700099867|  [0, 1]|    4.0|I initially gave ...|11 14, 2012|A1QJJU33VNC4S7|              D@rkFX|A great game ruin...|    1352851200|[i, initially, ga...|[initially, gave,...|(2000,[1,4,5,28,3...|\n",
            "|0700099867|  [1, 1]|    2.0|I still haven't f...| 02 8, 2014|A2JLT2WY0F2HVI|       D. Sweetapple|Couldn't get this...|    1391817600|[i, still, haven'...|[still, figured, ...|(2000,[1,2,3,4,9,...|\n",
            "|0700099867|  [1, 1]|    5.0|I'm not quite fin...|06 28, 2011|A38NXTZUFB1O2K|                FiSH| Best in the series!|    1309219200|[i'm, not, quite,...|[quite, finished,...|(2000,[0,1,2,4,6,...|\n",
            "|0700099867|  [0, 0]|    5.0|I have been playi...|10 19, 2011| ANW6EGY12V5XS|         Henri Savin|   A 5 stars winner!|    1318982400|[i, have, been, p...|[playing, car, ra...|(2000,[1,2,4,5,6,...|\n",
            "|0700099867|  [0, 1]|    5.0|Dirt 3 on DVDi co...|12 29, 2013| AHT34BRYFBFT1|              hewimp|                Cars|    1388275200|[dirt, 3, on, dvd...|[dirt, 3, dvdi, c...|(2000,[4,5,13,59,...|\n",
            "|0700099867|  [0, 0]|    1.0|I bought this and...|06 30, 2014|A248LSBZT4P38V|   Joseph R. Kennedy|It might have bee...|    1404086400|[i, bought, this,...|[bought, key, wor...|(2000,[0,8,18,51,...|\n",
            "|0700099867|  [0, 0]|    1.0|Crashed in Vista....|04 30, 2013| AFS6WERAP409A|Lisa Gamuciello \"...|Don't waste your ...|    1367280000|[crashed, in, vis...|[crashed, vista.,...|(2000,[0,3,12,116...|\n",
            "|0700099867|  [1, 1]|    1.0|This game was a r...|07 15, 2013|A14L115LBOB0A5|       MotoRider42HC|Not as good as Di...|    1373846400|[this, game, was,...|[game, rip-off., ...|(2000,[0,1,24,74,...|\n",
            "|0700099867|  [1, 1]|    4.0|In today's game m...|03 19, 2012| A20DRRKAN5Z9Q|           Moviedude|An overlooked gem...|    1332115200|[in, today's, gam...|[today's, game, m...|(2000,[1,3,5,6,8,...|\n",
            "|0700099867|  [0, 0]|    3.0|This really is a ...|06 28, 2013|A2VYL51WQXC5KK|    Old-Lumens \"O-L\"|Better than Dirt ...|    1372377600|[this, really, is...|[really, step, di...|(2000,[1,3,5,7,18...|\n",
            "|0700099867|  [2, 5]|    1.0|This game is bug ...|12 26, 2011|A10AYT89XSCE46|        Paulo Coelho|Colin McRae CRASH 3!|    1324857600|[this, game, is, ...|[game, bug, landf...|(2000,[1,47,72,10...|\n",
            "|0700099867|  [3, 3]|    1.0|DiRT 2 was like t...|11 23, 2013|A29KT7UP7DLM1J|        Peter Ostman|The first one was...|    1385164800|[dirt, 2, was, li...|[dirt, 2, like, t...|(2000,[0,1,2,3,5,...|\n",
            "+----------+--------+-------+--------------------+-----------+--------------+--------------------+--------------------+--------------+--------------------+--------------------+--------------------+\n",
            "only showing top 20 rows\n",
            "\n"
          ],
          "name": "stdout"
        }
      ]
    },
    {
      "cell_type": "code",
      "metadata": {
        "id": "xwh5Zhho4EzH",
        "colab_type": "code",
        "colab": {}
      },
      "source": [
        "assembler = VectorAssembler(\n",
        "    inputCols = [\"countedWords\"],\n",
        "    outputCol = \"features\")\n",
        "\n",
        "output = assembler.transform(newDf)\n",
        "output = output.select(col(\"overall\").alias(\"label\"),col(\"features\"))\n"
      ],
      "execution_count": 0,
      "outputs": []
    },
    {
      "cell_type": "code",
      "metadata": {
        "id": "4yrmhnrj4pbm",
        "colab_type": "code",
        "colab": {}
      },
      "source": [
        "from pyspark.ml import Pipeline\n",
        "from pyspark.ml.regression import GBTRegressor\n",
        "from pyspark.ml.feature import VectorIndexer\n",
        "\n",
        "\n",
        "sc.setLogLevel(\"DEBUG\")\n",
        "(trainingData, testData) = output.randomSplit([0.7,0.3])\n",
        "gbt = GBTRegressor(featuresCol=\"features\")\n",
        "###Behzad###\n",
        "###Doing this works\n",
        "#gbt.fit(trainingData)\n",
        "###But then doing this does not\n",
        "#gbt.transform(testData)\n",
        "###Neither does\n",
        "#gbt.predict(testData)\n",
        "\n",
        "pipeline = Pipeline(stages=[gbt])\n",
        "model = pipeline.fit(trainingData)\n",
        "#10 minutes with no max iteration"
      ],
      "execution_count": 0,
      "outputs": []
    },
    {
      "cell_type": "code",
      "metadata": {
        "id": "6EJih6HO4-Sp",
        "colab_type": "code",
        "colab": {}
      },
      "source": [
        "predictions = model.transform(testData)"
      ],
      "execution_count": 0,
      "outputs": []
    },
    {
      "cell_type": "code",
      "metadata": {
        "id": "TL38XNSx69yu",
        "colab_type": "code",
        "outputId": "573ab422-ef21-4c9a-f5c0-d46de6b0a859",
        "colab": {
          "base_uri": "https://localhost:8080/",
          "height": 1000
        }
      },
      "source": [
        "predictions.show(100)"
      ],
      "execution_count": 113,
      "outputs": [
        {
          "output_type": "stream",
          "text": [
            "+-----+--------------------+-------------------+\n",
            "|label|            features|         prediction|\n",
            "+-----+--------------------+-------------------+\n",
            "|  1.0|        (2000,[],[])|  4.101456845099364|\n",
            "|  1.0|        (2000,[],[])|  4.101456845099364|\n",
            "|  1.0|        (2000,[],[])|  4.101456845099364|\n",
            "|  1.0|(2000,[0,1,2,3,4,...| 3.2613023386400775|\n",
            "|  1.0|(2000,[0,1,2,3,4,...| 2.8602424306423537|\n",
            "|  1.0|(2000,[0,1,2,3,4,...|  4.169133229799988|\n",
            "|  1.0|(2000,[0,1,2,3,4,...| 3.3281720793265204|\n",
            "|  1.0|(2000,[0,1,2,3,4,...| 2.6012727053986247|\n",
            "|  1.0|(2000,[0,1,2,3,4,...|0.33282893366344724|\n",
            "|  1.0|(2000,[0,1,2,3,4,...| 3.8757466660504782|\n",
            "|  1.0|(2000,[0,1,2,3,4,...| 3.9524280764188893|\n",
            "|  1.0|(2000,[0,1,2,3,4,...|  3.578799113846432|\n",
            "|  1.0|(2000,[0,1,2,3,4,...|  4.197586012744731|\n",
            "|  1.0|(2000,[0,1,2,3,4,...| 1.6990365510923695|\n",
            "|  1.0|(2000,[0,1,2,3,4,...|  2.404313937818774|\n",
            "|  1.0|(2000,[0,1,2,3,4,...| 3.9421687540588457|\n",
            "|  1.0|(2000,[0,1,2,3,4,...| 2.6244287533447803|\n",
            "|  1.0|(2000,[0,1,2,3,4,...| 3.8992679307503035|\n",
            "|  1.0|(2000,[0,1,2,3,4,...| 1.4002600927103033|\n",
            "|  1.0|(2000,[0,1,2,3,4,...|   2.62612654028269|\n",
            "|  1.0|(2000,[0,1,2,3,4,...|    4.1934679300759|\n",
            "|  1.0|(2000,[0,1,2,3,4,...|  4.177600465648094|\n",
            "|  1.0|(2000,[0,1,2,3,4,...|  4.043727049464083|\n",
            "|  1.0|(2000,[0,1,2,3,4,...|  3.212531449662315|\n",
            "|  1.0|(2000,[0,1,2,3,4,...|   2.27886704541911|\n",
            "|  1.0|(2000,[0,1,2,3,4,...| 3.6000048048462454|\n",
            "|  1.0|(2000,[0,1,2,3,4,...|  3.720226791955079|\n",
            "|  1.0|(2000,[0,1,2,3,4,...|  4.216965771099937|\n",
            "|  1.0|(2000,[0,1,2,3,4,...|  1.273068112282676|\n",
            "|  1.0|(2000,[0,1,2,3,4,...| 1.3474786670956345|\n",
            "|  1.0|(2000,[0,1,2,3,4,...| 2.1691560897510387|\n",
            "|  1.0|(2000,[0,1,2,3,4,...| 3.0844963880900442|\n",
            "|  1.0|(2000,[0,1,2,3,4,...| 2.8919309487975817|\n",
            "|  1.0|(2000,[0,1,2,3,4,...|   2.85694441041078|\n",
            "|  1.0|(2000,[0,1,2,3,4,...| 3.8092429033621764|\n",
            "|  1.0|(2000,[0,1,2,3,4,...|  3.123444536977164|\n",
            "|  1.0|(2000,[0,1,2,3,4,...|   3.93578113707636|\n",
            "|  1.0|(2000,[0,1,2,3,4,...| 3.2689053317708607|\n",
            "|  1.0|(2000,[0,1,2,3,4,...|  4.085964597986439|\n",
            "|  1.0|(2000,[0,1,2,3,4,...|  4.489084575266642|\n",
            "|  1.0|(2000,[0,1,2,3,4,...| 2.9896120250236575|\n",
            "|  1.0|(2000,[0,1,2,3,4,...| 3.4505712521554135|\n",
            "|  1.0|(2000,[0,1,2,3,4,...|  4.027478034148662|\n",
            "|  1.0|(2000,[0,1,2,3,4,...| 1.5918579053908108|\n",
            "|  1.0|(2000,[0,1,2,3,4,...| 3.7972443609767765|\n",
            "|  1.0|(2000,[0,1,2,3,4,...|  1.909933688058404|\n",
            "|  1.0|(2000,[0,1,2,3,4,...| 2.6180880309333308|\n",
            "|  1.0|(2000,[0,1,2,3,4,...| 3.7264505492423803|\n",
            "|  1.0|(2000,[0,1,2,3,4,...|     4.381618993616|\n",
            "|  1.0|(2000,[0,1,2,3,4,...| 3.9642864582218094|\n",
            "|  1.0|(2000,[0,1,2,3,4,...| 3.6553108133605052|\n",
            "|  1.0|(2000,[0,1,2,3,4,...|  3.890123216414043|\n",
            "|  1.0|(2000,[0,1,2,3,4,...| 3.4604148841934923|\n",
            "|  1.0|(2000,[0,1,2,3,4,...| 3.1098044560212683|\n",
            "|  1.0|(2000,[0,1,2,3,4,...|  4.038024830774495|\n",
            "|  1.0|(2000,[0,1,2,3,4,...|  1.261613785302964|\n",
            "|  1.0|(2000,[0,1,2,3,4,...|  4.479084860558727|\n",
            "|  1.0|(2000,[0,1,2,3,4,...|  3.950395652416557|\n",
            "|  1.0|(2000,[0,1,2,3,4,...| 3.7156219584819303|\n",
            "|  1.0|(2000,[0,1,2,3,4,...| 3.8975194480166904|\n",
            "|  1.0|(2000,[0,1,2,3,4,...| 3.9243132123202726|\n",
            "|  1.0|(2000,[0,1,2,3,4,...| 1.6696019808053288|\n",
            "|  1.0|(2000,[0,1,2,3,5,...|  4.038024830774495|\n",
            "|  1.0|(2000,[0,1,2,3,5,...|   3.98072936540916|\n",
            "|  1.0|(2000,[0,1,2,3,5,...| 1.1717448178480816|\n",
            "|  1.0|(2000,[0,1,2,3,5,...| 2.5190899287722934|\n",
            "|  1.0|(2000,[0,1,2,3,5,...| 2.1050140479010424|\n",
            "|  1.0|(2000,[0,1,2,3,5,...| 3.9734641133635016|\n",
            "|  1.0|(2000,[0,1,2,3,5,...| 3.9080678562002586|\n",
            "|  1.0|(2000,[0,1,2,3,5,...| 4.0685346866093575|\n",
            "|  1.0|(2000,[0,1,2,3,6,...| 1.7581245982263207|\n",
            "|  1.0|(2000,[0,1,2,3,6,...|  3.164914542578972|\n",
            "|  1.0|(2000,[0,1,2,3,6,...| 3.5000798086535854|\n",
            "|  1.0|(2000,[0,1,2,3,6,...|  3.522276487107909|\n",
            "|  1.0|(2000,[0,1,2,3,6,...|  3.451448368931653|\n",
            "|  1.0|(2000,[0,1,2,3,6,...|  3.926067115873658|\n",
            "|  1.0|(2000,[0,1,2,3,6,...|  3.868489561242128|\n",
            "|  1.0|(2000,[0,1,2,3,6,...|  4.324324965047532|\n",
            "|  1.0|(2000,[0,1,2,3,6,...| 2.6021044278599375|\n",
            "|  1.0|(2000,[0,1,2,3,7,...| 2.8452569165324553|\n",
            "|  1.0|(2000,[0,1,2,3,7,...|  3.857770771879585|\n",
            "|  1.0|(2000,[0,1,2,3,7,...| 1.4690128948903145|\n",
            "|  1.0|(2000,[0,1,2,3,7,...| 2.9738272686574554|\n",
            "|  1.0|(2000,[0,1,2,3,7,...|   2.38756457199935|\n",
            "|  1.0|(2000,[0,1,2,3,7,...| 3.5718035581848793|\n",
            "|  1.0|(2000,[0,1,2,3,7,...|  3.812709461936021|\n",
            "|  1.0|(2000,[0,1,2,3,8,...| 3.5563536678307366|\n",
            "|  1.0|(2000,[0,1,2,3,8,...| 3.6188480866435184|\n",
            "|  1.0|(2000,[0,1,2,3,9,...| 3.6221093365504964|\n",
            "|  1.0|(2000,[0,1,2,3,12...| 3.8132420519045613|\n",
            "|  1.0|(2000,[0,1,2,3,12...|  4.053366264049124|\n",
            "|  1.0|(2000,[0,1,2,3,15...| 1.8925034889424872|\n",
            "|  1.0|(2000,[0,1,2,3,16...|  3.969208815815235|\n",
            "|  1.0|(2000,[0,1,2,3,32...| 4.0685346866093575|\n",
            "|  1.0|(2000,[0,1,2,4,5,...|    2.8195190443621|\n",
            "|  1.0|(2000,[0,1,2,4,5,...| 2.0063563297796767|\n",
            "|  1.0|(2000,[0,1,2,4,5,...|  4.202178458721871|\n",
            "|  1.0|(2000,[0,1,2,4,5,...|  1.807042852063151|\n",
            "|  1.0|(2000,[0,1,2,4,5,...|  2.679254613316533|\n",
            "|  1.0|(2000,[0,1,2,4,5,...|  4.421879306627336|\n",
            "+-----+--------------------+-------------------+\n",
            "only showing top 100 rows\n",
            "\n"
          ],
          "name": "stdout"
        }
      ]
    },
    {
      "cell_type": "code",
      "metadata": {
        "id": "4jLRswDwWNh_",
        "colab_type": "code",
        "outputId": "f9be3b56-46b5-4910-ab04-8318a4914adb",
        "colab": {
          "base_uri": "https://localhost:8080/",
          "height": 34
        }
      },
      "source": [
        "from pyspark.ml.evaluation import RegressionEvaluator\n",
        "\n",
        "evaluator = RegressionEvaluator(\n",
        "        labelCol=\"label\", predictionCol=\"prediction\", metricName=\"rmse\")\n",
        "rmse = evaluator.evaluate(predictions)\n",
        "print(\"Root Mean Squared Error (RMSE) on test data = %g\" % rmse)"
      ],
      "execution_count": 123,
      "outputs": [
        {
          "output_type": "stream",
          "text": [
            "Root Mean Squared Error (RMSE) on test data = 1.07147\n"
          ],
          "name": "stdout"
        }
      ]
    },
    {
      "cell_type": "code",
      "metadata": {
        "id": "hYIsoygWZzZZ",
        "colab_type": "code",
        "colab": {}
      },
      "source": [
        ""
      ],
      "execution_count": 0,
      "outputs": []
    },
    {
      "cell_type": "code",
      "metadata": {
        "id": "Vc0SRNC6njSK",
        "colab_type": "code",
        "colab": {
          "base_uri": "https://localhost:8080/",
          "height": 981
        },
        "outputId": "d2b82333-e1e2-43e2-ff1b-268ba43af7a2"
      },
      "source": [
        "\n",
        "points = predictions.toPandas()\n",
        "\n"
      ],
      "execution_count": 139,
      "outputs": [
        {
          "output_type": "execute_result",
          "data": {
            "text/html": [
              "<div>\n",
              "<style scoped>\n",
              "    .dataframe tbody tr th:only-of-type {\n",
              "        vertical-align: middle;\n",
              "    }\n",
              "\n",
              "    .dataframe tbody tr th {\n",
              "        vertical-align: top;\n",
              "    }\n",
              "\n",
              "    .dataframe thead th {\n",
              "        text-align: right;\n",
              "    }\n",
              "</style>\n",
              "<table border=\"1\" class=\"dataframe\">\n",
              "  <thead>\n",
              "    <tr style=\"text-align: right;\">\n",
              "      <th></th>\n",
              "      <th>label</th>\n",
              "      <th>features</th>\n",
              "      <th>prediction</th>\n",
              "    </tr>\n",
              "  </thead>\n",
              "  <tbody>\n",
              "    <tr>\n",
              "      <th>0</th>\n",
              "      <td>1.0</td>\n",
              "      <td>(0.0, 0.0, 0.0, 0.0, 0.0, 0.0, 0.0, 0.0, 0.0, ...</td>\n",
              "      <td>4.101457</td>\n",
              "    </tr>\n",
              "    <tr>\n",
              "      <th>1</th>\n",
              "      <td>1.0</td>\n",
              "      <td>(0.0, 0.0, 0.0, 0.0, 0.0, 0.0, 0.0, 0.0, 0.0, ...</td>\n",
              "      <td>4.101457</td>\n",
              "    </tr>\n",
              "    <tr>\n",
              "      <th>2</th>\n",
              "      <td>1.0</td>\n",
              "      <td>(0.0, 0.0, 0.0, 0.0, 0.0, 0.0, 0.0, 0.0, 0.0, ...</td>\n",
              "      <td>4.101457</td>\n",
              "    </tr>\n",
              "    <tr>\n",
              "      <th>3</th>\n",
              "      <td>1.0</td>\n",
              "      <td>(33.0, 7.0, 2.0, 1.0, 1.0, 8.0, 2.0, 1.0, 1.0,...</td>\n",
              "      <td>3.261302</td>\n",
              "    </tr>\n",
              "    <tr>\n",
              "      <th>4</th>\n",
              "      <td>1.0</td>\n",
              "      <td>(19.0, 10.0, 2.0, 2.0, 2.0, 2.0, 2.0, 1.0, 1.0...</td>\n",
              "      <td>2.860242</td>\n",
              "    </tr>\n",
              "    <tr>\n",
              "      <th>...</th>\n",
              "      <td>...</td>\n",
              "      <td>...</td>\n",
              "      <td>...</td>\n",
              "    </tr>\n",
              "    <tr>\n",
              "      <th>69588</th>\n",
              "      <td>5.0</td>\n",
              "      <td>(0.0, 0.0, 0.0, 0.0, 0.0, 0.0, 0.0, 0.0, 0.0, ...</td>\n",
              "      <td>4.296401</td>\n",
              "    </tr>\n",
              "    <tr>\n",
              "      <th>69589</th>\n",
              "      <td>5.0</td>\n",
              "      <td>(0.0, 0.0, 0.0, 0.0, 0.0, 0.0, 0.0, 0.0, 0.0, ...</td>\n",
              "      <td>4.296401</td>\n",
              "    </tr>\n",
              "    <tr>\n",
              "      <th>69590</th>\n",
              "      <td>5.0</td>\n",
              "      <td>(0.0, 0.0, 0.0, 0.0, 0.0, 0.0, 0.0, 0.0, 0.0, ...</td>\n",
              "      <td>4.101457</td>\n",
              "    </tr>\n",
              "    <tr>\n",
              "      <th>69591</th>\n",
              "      <td>5.0</td>\n",
              "      <td>(0.0, 0.0, 0.0, 0.0, 0.0, 0.0, 0.0, 0.0, 0.0, ...</td>\n",
              "      <td>4.101457</td>\n",
              "    </tr>\n",
              "    <tr>\n",
              "      <th>69592</th>\n",
              "      <td>5.0</td>\n",
              "      <td>(0.0, 0.0, 0.0, 0.0, 0.0, 0.0, 0.0, 0.0, 0.0, ...</td>\n",
              "      <td>4.001193</td>\n",
              "    </tr>\n",
              "  </tbody>\n",
              "</table>\n",
              "<p>69593 rows × 3 columns</p>\n",
              "</div>"
            ],
            "text/plain": [
              "       label                                           features  prediction\n",
              "0        1.0  (0.0, 0.0, 0.0, 0.0, 0.0, 0.0, 0.0, 0.0, 0.0, ...    4.101457\n",
              "1        1.0  (0.0, 0.0, 0.0, 0.0, 0.0, 0.0, 0.0, 0.0, 0.0, ...    4.101457\n",
              "2        1.0  (0.0, 0.0, 0.0, 0.0, 0.0, 0.0, 0.0, 0.0, 0.0, ...    4.101457\n",
              "3        1.0  (33.0, 7.0, 2.0, 1.0, 1.0, 8.0, 2.0, 1.0, 1.0,...    3.261302\n",
              "4        1.0  (19.0, 10.0, 2.0, 2.0, 2.0, 2.0, 2.0, 1.0, 1.0...    2.860242\n",
              "...      ...                                                ...         ...\n",
              "69588    5.0  (0.0, 0.0, 0.0, 0.0, 0.0, 0.0, 0.0, 0.0, 0.0, ...    4.296401\n",
              "69589    5.0  (0.0, 0.0, 0.0, 0.0, 0.0, 0.0, 0.0, 0.0, 0.0, ...    4.296401\n",
              "69590    5.0  (0.0, 0.0, 0.0, 0.0, 0.0, 0.0, 0.0, 0.0, 0.0, ...    4.101457\n",
              "69591    5.0  (0.0, 0.0, 0.0, 0.0, 0.0, 0.0, 0.0, 0.0, 0.0, ...    4.101457\n",
              "69592    5.0  (0.0, 0.0, 0.0, 0.0, 0.0, 0.0, 0.0, 0.0, 0.0, ...    4.001193\n",
              "\n",
              "[69593 rows x 3 columns]"
            ]
          },
          "metadata": {
            "tags": []
          },
          "execution_count": 139
        },
        {
          "output_type": "display_data",
          "data": {
            "image/png": "[encoded data removed]",
            "text/plain": [
              "<Figure size 1440x720 with 1 Axes>"
            ]
          },
          "metadata": {
            "tags": []
          }
        }
      ]
    },
    {
      "cell_type": "code",
      "metadata": {
        "id": "rwPlX3ZYugOQ",
        "colab_type": "code",
        "colab": {
          "base_uri": "https://localhost:8080/",
          "height": 269
        },
        "outputId": "3dbc5d20-cdd7-4909-dede-f80ea1692417"
      },
      "source": [
        "import numpy as np\n",
        "\n",
        "heatmap, xedges, yedges = np.histogram2d(x=points[\"prediction\"], y=points[\"label\"], bins=5)\n",
        "extent = [xedges[0], xedges[-1], yedges[0], yedges[-1]]\n",
        "\n",
        "\n",
        "plt.clf()\n",
        "plt.imshow(heatmap.T, extent=extent, origin='lower')\n",
        "plt.show()\n",
        "\n",
        "#fig, axes = plt.subplots(ncols=1, nrows=1,figsize=(20,10))\n",
        "#plt.setp(axes, xlim=(0,10),ylim=(0,3))\n",
        "\n",
        "#points\n",
        "#axes.title.set_text(\"good-bad\")\n",
        "#axes.scatter(x=points[\"prediction\"], y=points[\"label\"])\n"
      ],
      "execution_count": 147,
      "outputs": [
        {
          "output_type": "display_data",
          "data": {
            "image/png": "[encoded data removed]",
            "text/plain": [
              "<Figure size 432x288 with 1 Axes>"
            ]
          },
          "metadata": {
            "tags": []
          }
        }
      ]
    },
    {
      "cell_type": "code",
      "metadata": {
        "id": "81fokXNRxatY",
        "colab_type": "code",
        "colab": {}
      },
      "source": [
        ""
      ],
      "execution_count": 0,
      "outputs": []
    }
  ]
}