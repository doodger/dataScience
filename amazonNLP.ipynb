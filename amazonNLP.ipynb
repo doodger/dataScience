{
  "nbformat": 4,
  "nbformat_minor": 0,
  "metadata": {
    "colab": {
      "name": "amazonNLP.ipynb",
      "provenance": [],
      "collapsed_sections": [],
      "authorship_tag": "ABX9TyNnq0BtFMhDtdmlZ25CjqTh",
      "include_colab_link": true
    },
    "kernelspec": {
      "name": "python3",
      "display_name": "Python 3"
    }
  },
  "cells": [
    {
      "cell_type": "markdown",
      "metadata": {
        "id": "view-in-github",
        "colab_type": "text"
      },
      "source": [
        "<a href=\"https://colab.research.google.com/github/doodger/dataScience/blob/development/amazonNLP.ipynb\" target=\"_parent\"><img src=\"https://colab.research.google.com/assets/colab-badge.svg\" alt=\"Open In Colab\"/></a>"
      ]
    },
    {
      "cell_type": "code",
      "metadata": {
        "id": "Eajvm0X6DaQf",
        "colab_type": "code",
        "colab": {}
      },
      "source": [
        ""
      ],
      "execution_count": 0,
      "outputs": []
    },
    {
      "cell_type": "code",
      "metadata": {
        "id": "h81tdY872-iP",
        "colab_type": "code",
        "colab": {}
      },
      "source": [
        "!apt-get install openjdk-8-jdk-headless -qq > /dev/null\n",
        "!wget -q http://www-eu.apache.org/dist/spark/spark-2.4.5/spark-2.4.5-bin-hadoop2.7.tgz\n",
        "!tar xf spark-2.4.5-bin-hadoop2.7.tgz\n",
        "!pip install -q findspark"
      ],
      "execution_count": 0,
      "outputs": []
    },
    {
      "cell_type": "code",
      "metadata": {
        "id": "JxJAj9xU3Ewt",
        "colab_type": "code",
        "colab": {}
      },
      "source": [
        "import os\n",
        "os.environ[\"JAVA_HOME\"] = \"/usr/lib/jvm/java-8-openjdk-amd64\"\n",
        "os.environ[\"SPARK_HOME\"] = \"/content/spark-2.4.5-bin-hadoop2.7\""
      ],
      "execution_count": 0,
      "outputs": []
    },
    {
      "cell_type": "code",
      "metadata": {
        "id": "dwhPJoRuFP7o",
        "colab_type": "code",
        "colab": {}
      },
      "source": [
        "import findspark\n",
        "findspark.init()# SPARK_HOMEfrom pyspark.sql import SparkSession\n",
        "from pyspark.sql import SparkSession\n",
        "spark = SparkSession.builder.master(\"local[*]\").getOrCreate()"
      ],
      "execution_count": 0,
      "outputs": []
    },
    {
      "cell_type": "code",
      "metadata": {
        "id": "nSpSzSirE6ue",
        "colab_type": "code",
        "outputId": "472c8b5c-2be3-4a29-9919-13e2e69fce5b",
        "colab": {
          "base_uri": "https://localhost:8080/",
          "height": 202
        }
      },
      "source": [
        "df = spark.createDataFrame([{\"hello\": \"world\"} for x in range(1000)])\n",
        "df.show(3)"
      ],
      "execution_count": 0,
      "outputs": [
        {
          "output_type": "stream",
          "text": [
            "/content/spark-2.4.5-bin-hadoop2.7/python/pyspark/sql/session.py:346: UserWarning: inferring schema from dict is deprecated,please use pyspark.sql.Row instead\n",
            "  warnings.warn(\"inferring schema from dict is deprecated,\"\n"
          ],
          "name": "stderr"
        },
        {
          "output_type": "stream",
          "text": [
            "+-----+\n",
            "|hello|\n",
            "+-----+\n",
            "|world|\n",
            "|world|\n",
            "|world|\n",
            "+-----+\n",
            "only showing top 3 rows\n",
            "\n"
          ],
          "name": "stdout"
        }
      ]
    },
    {
      "cell_type": "code",
      "metadata": {
        "id": "zEr9X9BvHys9",
        "colab_type": "code",
        "outputId": "543cfaef-4714-495f-bd02-78d052d3a7bf",
        "colab": {
          "base_uri": "https://localhost:8080/",
          "height": 121
        }
      },
      "source": [
        "from google.colab import drive\n",
        "drive.mount('/content/drive')"
      ],
      "execution_count": 0,
      "outputs": [
        {
          "output_type": "stream",
          "text": [
            "Go to this URL in a browser: https://accounts.google.com/o/oauth2/auth?client_id=947318989803-6bn6qk8qdgf4n4g3pfee6491hc0brc4i.apps.googleusercontent.com&redirect_uri=urn%3aietf%3awg%3aoauth%3a2.0%3aoob&response_type=code&scope=email%20https%3a%2f%2fwww.googleapis.com%2fauth%2fdocs.test%20https%3a%2f%2fwww.googleapis.com%2fauth%2fdrive%20https%3a%2f%2fwww.googleapis.com%2fauth%2fdrive.photos.readonly%20https%3a%2f%2fwww.googleapis.com%2fauth%2fpeopleapi.readonly\n",
            "\n",
            "Enter your authorization code:\n",
            "··········\n",
            "Mounted at /content/drive\n"
          ],
          "name": "stdout"
        }
      ]
    },
    {
      "cell_type": "code",
      "metadata": {
        "id": "EsnGeO4wKYN9",
        "colab_type": "code",
        "colab": {}
      },
      "source": [
        "#!ls drive/'My Drive'\n",
        "from pyspark.sql import SQLContext\n",
        "from pyspark import SparkContext\n",
        "sc = SparkContext.getOrCreate()\n",
        "sqlContext = SQLContext(sc)\n",
        "df = spark.read.json(\"drive/My Drive/Video_Games_5.json\")"
      ],
      "execution_count": 0,
      "outputs": []
    },
    {
      "cell_type": "code",
      "metadata": {
        "id": "DoVNHeq8KhEo",
        "colab_type": "code",
        "outputId": "ac1a27c4-41af-4d96-ed56-a4d277c4d11a",
        "colab": {
          "base_uri": "https://localhost:8080/",
          "height": 34
        }
      },
      "source": [
        "!ls \"drive/My Drive/Video_Games_5.json\""
      ],
      "execution_count": 0,
      "outputs": [
        {
          "output_type": "stream",
          "text": [
            "'drive/My Drive/Video_Games_5.json'\n"
          ],
          "name": "stdout"
        }
      ]
    },
    {
      "cell_type": "code",
      "metadata": {
        "id": "tpVLjgwi09pM",
        "colab_type": "code",
        "outputId": "5d4a14a9-6f2f-4216-9fc4-a84fc0548aa5",
        "colab": {
          "base_uri": "https://localhost:8080/",
          "height": 454
        }
      },
      "source": [
        "df.show()"
      ],
      "execution_count": 0,
      "outputs": [
        {
          "output_type": "stream",
          "text": [
            "+----------+--------+-------+--------------------+-----------+--------------+--------------------+--------------------+--------------+\n",
            "|      asin| helpful|overall|          reviewText| reviewTime|    reviewerID|        reviewerName|             summary|unixReviewTime|\n",
            "+----------+--------+-------+--------------------+-----------+--------------+--------------------+--------------------+--------------+\n",
            "|0700099867| [8, 12]|    1.0|Installing the ga...| 07 9, 2012|A2HD75EMZR8QLN|                 123|Pay to unlock con...|    1341792000|\n",
            "|0700099867|  [0, 0]|    4.0|If you like rally...|06 30, 2013|A3UR8NLLY1ZHCX|Alejandro Henao \"...|     Good rally game|    1372550400|\n",
            "|0700099867|  [0, 0]|    1.0|1st shipment rece...|06 28, 2014|A1INA0F5CWW3J4|Amazon Shopper \"M...|           Wrong key|    1403913600|\n",
            "|0700099867| [7, 10]|    3.0|I got this versio...|09 14, 2011|A1DLMTOTHQ4AST|            ampgreen|awesome game, if ...|    1315958400|\n",
            "|0700099867|  [2, 2]|    4.0|I had Dirt 2 on X...|06 14, 2011|A361M14PU2GUEG|Angry Ryan \"Ryan ...|              DIRT 3|    1308009600|\n",
            "|0700099867|  [0, 0]|    4.0|Overall this is a...|05 11, 2013|A2UTRVO4FDCBH6|              A.R.G.|Good racing game,...|    1368230400|\n",
            "|0700099867|[11, 13]|    5.0|Loved playing Dir...|08 14, 2011| AN3YYDZAS3O1Y|                 Bob|A step up from Di...|    1313280000|\n",
            "|0700099867|  [1, 4]|    1.0|I can't tell you ...|11 24, 2012| AQTC623NCESZW|       Chesty Puller|Crash 3 is correc...|    1353715200|\n",
            "|0700099867|  [0, 1]|    4.0|I initially gave ...|11 14, 2012|A1QJJU33VNC4S7|              D@rkFX|A great game ruin...|    1352851200|\n",
            "|0700099867|  [1, 1]|    2.0|I still haven't f...| 02 8, 2014|A2JLT2WY0F2HVI|       D. Sweetapple|Couldn't get this...|    1391817600|\n",
            "|0700099867|  [1, 1]|    5.0|I'm not quite fin...|06 28, 2011|A38NXTZUFB1O2K|                FiSH| Best in the series!|    1309219200|\n",
            "|0700099867|  [0, 0]|    5.0|I have been playi...|10 19, 2011| ANW6EGY12V5XS|         Henri Savin|   A 5 stars winner!|    1318982400|\n",
            "|0700099867|  [0, 1]|    5.0|Dirt 3 on DVDi co...|12 29, 2013| AHT34BRYFBFT1|              hewimp|                Cars|    1388275200|\n",
            "|0700099867|  [0, 0]|    1.0|I bought this and...|06 30, 2014|A248LSBZT4P38V|   Joseph R. Kennedy|It might have bee...|    1404086400|\n",
            "|0700099867|  [0, 0]|    1.0|Crashed in Vista....|04 30, 2013| AFS6WERAP409A|Lisa Gamuciello \"...|Don't waste your ...|    1367280000|\n",
            "|0700099867|  [1, 1]|    1.0|This game was a r...|07 15, 2013|A14L115LBOB0A5|       MotoRider42HC|Not as good as Di...|    1373846400|\n",
            "|0700099867|  [1, 1]|    4.0|In today's game m...|03 19, 2012| A20DRRKAN5Z9Q|           Moviedude|An overlooked gem...|    1332115200|\n",
            "|0700099867|  [0, 0]|    3.0|This really is a ...|06 28, 2013|A2VYL51WQXC5KK|    Old-Lumens \"O-L\"|Better than Dirt ...|    1372377600|\n",
            "|0700099867|  [2, 5]|    1.0|This game is bug ...|12 26, 2011|A10AYT89XSCE46|        Paulo Coelho|Colin McRae CRASH 3!|    1324857600|\n",
            "|0700099867|  [3, 3]|    1.0|DiRT 2 was like t...|11 23, 2013|A29KT7UP7DLM1J|        Peter Ostman|The first one was...|    1385164800|\n",
            "+----------+--------+-------+--------------------+-----------+--------------+--------------------+--------------------+--------------+\n",
            "only showing top 20 rows\n",
            "\n"
          ],
          "name": "stdout"
        }
      ]
    },
    {
      "cell_type": "code",
      "metadata": {
        "id": "WrSx3HuL1W93",
        "colab_type": "code",
        "colab": {}
      },
      "source": [
        "from pyspark.ml.feature import Tokenizer, RegexTokenizer,StopWordsRemover\n",
        "from pyspark.sql.functions import col, udf\n",
        "from pyspark.sql.types import IntegerType\n",
        "\n",
        "tokenizer = Tokenizer(inputCol = \"reviewText\", outputCol = \"words\")\n",
        "\n",
        "tokenized = tokenizer.transform(df)\n",
        "\n",
        "remover = StopWordsRemover(inputCol=\"words\", outputCol = \"filtered\")\n",
        "transformed =  remover.transform(tokenized)\n"
      ],
      "execution_count": 0,
      "outputs": []
    },
    {
      "cell_type": "code",
      "metadata": {
        "id": "HShcsK2K2Vgs",
        "colab_type": "code",
        "outputId": "523b0cbd-7715-4559-8721-82f93d4f04de",
        "colab": {
          "base_uri": "https://localhost:8080/",
          "height": 454
        }
      },
      "source": [
        "transformed.show()"
      ],
      "execution_count": 0,
      "outputs": [
        {
          "output_type": "stream",
          "text": [
            "+----------+--------+-------+--------------------+-----------+--------------+--------------------+--------------------+--------------+--------------------+--------------------+\n",
            "|      asin| helpful|overall|          reviewText| reviewTime|    reviewerID|        reviewerName|             summary|unixReviewTime|               words|            filtered|\n",
            "+----------+--------+-------+--------------------+-----------+--------------+--------------------+--------------------+--------------+--------------------+--------------------+\n",
            "|0700099867| [8, 12]|    1.0|Installing the ga...| 07 9, 2012|A2HD75EMZR8QLN|                 123|Pay to unlock con...|    1341792000|[installing, the,...|[installing, game...|\n",
            "|0700099867|  [0, 0]|    4.0|If you like rally...|06 30, 2013|A3UR8NLLY1ZHCX|Alejandro Henao \"...|     Good rally game|    1372550400|[if, you, like, r...|[like, rally, car...|\n",
            "|0700099867|  [0, 0]|    1.0|1st shipment rece...|06 28, 2014|A1INA0F5CWW3J4|Amazon Shopper \"M...|           Wrong key|    1403913600|[1st, shipment, r...|[1st, shipment, r...|\n",
            "|0700099867| [7, 10]|    3.0|I got this versio...|09 14, 2011|A1DLMTOTHQ4AST|            ampgreen|awesome game, if ...|    1315958400|[i, got, this, ve...|[got, version, in...|\n",
            "|0700099867|  [2, 2]|    4.0|I had Dirt 2 on X...|06 14, 2011|A361M14PU2GUEG|Angry Ryan \"Ryan ...|              DIRT 3|    1308009600|[i, had, dirt, 2,...|[dirt, 2, xbox, 3...|\n",
            "|0700099867|  [0, 0]|    4.0|Overall this is a...|05 11, 2013|A2UTRVO4FDCBH6|              A.R.G.|Good racing game,...|    1368230400|[overall, this, i...|[overall, well, d...|\n",
            "|0700099867|[11, 13]|    5.0|Loved playing Dir...|08 14, 2011| AN3YYDZAS3O1Y|                 Bob|A step up from Di...|    1313280000|[loved, playing, ...|[loved, playing, ...|\n",
            "|0700099867|  [1, 4]|    1.0|I can't tell you ...|11 24, 2012| AQTC623NCESZW|       Chesty Puller|Crash 3 is correc...|    1353715200|[i, can't, tell, ...|[tell, piece, dog...|\n",
            "|0700099867|  [0, 1]|    4.0|I initially gave ...|11 14, 2012|A1QJJU33VNC4S7|              D@rkFX|A great game ruin...|    1352851200|[i, initially, ga...|[initially, gave,...|\n",
            "|0700099867|  [1, 1]|    2.0|I still haven't f...| 02 8, 2014|A2JLT2WY0F2HVI|       D. Sweetapple|Couldn't get this...|    1391817600|[i, still, haven'...|[still, figured, ...|\n",
            "|0700099867|  [1, 1]|    5.0|I'm not quite fin...|06 28, 2011|A38NXTZUFB1O2K|                FiSH| Best in the series!|    1309219200|[i'm, not, quite,...|[quite, finished,...|\n",
            "|0700099867|  [0, 0]|    5.0|I have been playi...|10 19, 2011| ANW6EGY12V5XS|         Henri Savin|   A 5 stars winner!|    1318982400|[i, have, been, p...|[playing, car, ra...|\n",
            "|0700099867|  [0, 1]|    5.0|Dirt 3 on DVDi co...|12 29, 2013| AHT34BRYFBFT1|              hewimp|                Cars|    1388275200|[dirt, 3, on, dvd...|[dirt, 3, dvdi, c...|\n",
            "|0700099867|  [0, 0]|    1.0|I bought this and...|06 30, 2014|A248LSBZT4P38V|   Joseph R. Kennedy|It might have bee...|    1404086400|[i, bought, this,...|[bought, key, wor...|\n",
            "|0700099867|  [0, 0]|    1.0|Crashed in Vista....|04 30, 2013| AFS6WERAP409A|Lisa Gamuciello \"...|Don't waste your ...|    1367280000|[crashed, in, vis...|[crashed, vista.,...|\n",
            "|0700099867|  [1, 1]|    1.0|This game was a r...|07 15, 2013|A14L115LBOB0A5|       MotoRider42HC|Not as good as Di...|    1373846400|[this, game, was,...|[game, rip-off., ...|\n",
            "|0700099867|  [1, 1]|    4.0|In today's game m...|03 19, 2012| A20DRRKAN5Z9Q|           Moviedude|An overlooked gem...|    1332115200|[in, today's, gam...|[today's, game, m...|\n",
            "|0700099867|  [0, 0]|    3.0|This really is a ...|06 28, 2013|A2VYL51WQXC5KK|    Old-Lumens \"O-L\"|Better than Dirt ...|    1372377600|[this, really, is...|[really, step, di...|\n",
            "|0700099867|  [2, 5]|    1.0|This game is bug ...|12 26, 2011|A10AYT89XSCE46|        Paulo Coelho|Colin McRae CRASH 3!|    1324857600|[this, game, is, ...|[game, bug, landf...|\n",
            "|0700099867|  [3, 3]|    1.0|DiRT 2 was like t...|11 23, 2013|A29KT7UP7DLM1J|        Peter Ostman|The first one was...|    1385164800|[dirt, 2, was, li...|[dirt, 2, like, t...|\n",
            "+----------+--------+-------+--------------------+-----------+--------------+--------------------+--------------------+--------------+--------------------+--------------------+\n",
            "only showing top 20 rows\n",
            "\n"
          ],
          "name": "stdout"
        }
      ]
    },
    {
      "cell_type": "code",
      "metadata": {
        "id": "E687y8zn2xb0",
        "colab_type": "code",
        "colab": {}
      },
      "source": [
        "from pyspark.ml.linalg import Vectors\n",
        "from pyspark.ml.feature import VectorAssembler, OneHotEncoderEstimator, StringIndexer, CountVectorizer\n",
        "countVectors = CountVectorizer(inputCol=\"filtered\", outputCol = \"countedWords\", vocabSize=2000)\n",
        "model = countVectors.fit(transformed)"
      ],
      "execution_count": 0,
      "outputs": []
    },
    {
      "cell_type": "code",
      "metadata": {
        "id": "Q1ORWRoC7q0z",
        "colab_type": "code",
        "colab": {}
      },
      "source": [
        "newDf = model.transform(transformed)\n"
      ],
      "execution_count": 0,
      "outputs": []
    },
    {
      "cell_type": "code",
      "metadata": {
        "id": "dzoD0Hb04DfL",
        "colab_type": "code",
        "outputId": "cbe156df-64ed-4b1a-f6e3-5cfc182056c1",
        "colab": {
          "base_uri": "https://localhost:8080/",
          "height": 474
        }
      },
      "source": [
        "newDf.show()"
      ],
      "execution_count": 0,
      "outputs": [
        {
          "output_type": "stream",
          "text": [
            "+----------+--------+-------+--------------------+-----------+--------------+--------------------+--------------------+--------------+--------------------+--------------------+--------------------+\n",
            "|      asin| helpful|overall|          reviewText| reviewTime|    reviewerID|        reviewerName|             summary|unixReviewTime|               words|            filtered|        countedWords|\n",
            "+----------+--------+-------+--------------------+-----------+--------------+--------------------+--------------------+--------------+--------------------+--------------------+--------------------+\n",
            "|0700099867| [8, 12]|    1.0|Installing the ga...| 07 9, 2012|A2HD75EMZR8QLN|                 123|Pay to unlock con...|    1341792000|[installing, the,...|[installing, game...|(2000,[1,2,3,5,7,...|\n",
            "|0700099867|  [0, 0]|    4.0|If you like rally...|06 30, 2013|A3UR8NLLY1ZHCX|Alejandro Henao \"...|     Good rally game|    1372550400|[if, you, like, r...|[like, rally, car...|(2000,[1,2,3,12,3...|\n",
            "|0700099867|  [0, 0]|    1.0|1st shipment rece...|06 28, 2014|A1INA0F5CWW3J4|Amazon Shopper \"M...|           Wrong key|    1403913600|[1st, shipment, r...|[1st, shipment, r...|(2000,[1,8,45,130...|\n",
            "|0700099867| [7, 10]|    3.0|I got this versio...|09 14, 2011|A1DLMTOTHQ4AST|            ampgreen|awesome game, if ...|    1315958400|[i, got, this, ve...|[got, version, in...|(2000,[1,2,3,4,5,...|\n",
            "|0700099867|  [2, 2]|    4.0|I had Dirt 2 on X...|06 14, 2011|A361M14PU2GUEG|Angry Ryan \"Ryan ...|              DIRT 3|    1308009600|[i, had, dirt, 2,...|[dirt, 2, xbox, 3...|(2000,[1,2,5,9,10...|\n",
            "|0700099867|  [0, 0]|    4.0|Overall this is a...|05 11, 2013|A2UTRVO4FDCBH6|              A.R.G.|Good racing game,...|    1368230400|[overall, this, i...|[overall, well, d...|(2000,[1,6,8,11,1...|\n",
            "|0700099867|[11, 13]|    5.0|Loved playing Dir...|08 14, 2011| AN3YYDZAS3O1Y|                 Bob|A step up from Di...|    1313280000|[loved, playing, ...|[loved, playing, ...|(2000,[0,1,3,20,2...|\n",
            "|0700099867|  [1, 4]|    1.0|I can't tell you ...|11 24, 2012| AQTC623NCESZW|       Chesty Puller|Crash 3 is correc...|    1353715200|[i, can't, tell, ...|[tell, piece, dog...|(2000,[0,1,2,3,4,...|\n",
            "|0700099867|  [0, 1]|    4.0|I initially gave ...|11 14, 2012|A1QJJU33VNC4S7|              D@rkFX|A great game ruin...|    1352851200|[i, initially, ga...|[initially, gave,...|(2000,[1,4,5,28,3...|\n",
            "|0700099867|  [1, 1]|    2.0|I still haven't f...| 02 8, 2014|A2JLT2WY0F2HVI|       D. Sweetapple|Couldn't get this...|    1391817600|[i, still, haven'...|[still, figured, ...|(2000,[1,2,3,4,9,...|\n",
            "|0700099867|  [1, 1]|    5.0|I'm not quite fin...|06 28, 2011|A38NXTZUFB1O2K|                FiSH| Best in the series!|    1309219200|[i'm, not, quite,...|[quite, finished,...|(2000,[0,1,2,4,6,...|\n",
            "|0700099867|  [0, 0]|    5.0|I have been playi...|10 19, 2011| ANW6EGY12V5XS|         Henri Savin|   A 5 stars winner!|    1318982400|[i, have, been, p...|[playing, car, ra...|(2000,[1,2,4,5,6,...|\n",
            "|0700099867|  [0, 1]|    5.0|Dirt 3 on DVDi co...|12 29, 2013| AHT34BRYFBFT1|              hewimp|                Cars|    1388275200|[dirt, 3, on, dvd...|[dirt, 3, dvdi, c...|(2000,[4,5,13,59,...|\n",
            "|0700099867|  [0, 0]|    1.0|I bought this and...|06 30, 2014|A248LSBZT4P38V|   Joseph R. Kennedy|It might have bee...|    1404086400|[i, bought, this,...|[bought, key, wor...|(2000,[0,8,18,51,...|\n",
            "|0700099867|  [0, 0]|    1.0|Crashed in Vista....|04 30, 2013| AFS6WERAP409A|Lisa Gamuciello \"...|Don't waste your ...|    1367280000|[crashed, in, vis...|[crashed, vista.,...|(2000,[0,3,12,116...|\n",
            "|0700099867|  [1, 1]|    1.0|This game was a r...|07 15, 2013|A14L115LBOB0A5|       MotoRider42HC|Not as good as Di...|    1373846400|[this, game, was,...|[game, rip-off., ...|(2000,[0,1,24,74,...|\n",
            "|0700099867|  [1, 1]|    4.0|In today's game m...|03 19, 2012| A20DRRKAN5Z9Q|           Moviedude|An overlooked gem...|    1332115200|[in, today's, gam...|[today's, game, m...|(2000,[1,3,5,6,8,...|\n",
            "|0700099867|  [0, 0]|    3.0|This really is a ...|06 28, 2013|A2VYL51WQXC5KK|    Old-Lumens \"O-L\"|Better than Dirt ...|    1372377600|[this, really, is...|[really, step, di...|(2000,[1,3,5,7,18...|\n",
            "|0700099867|  [2, 5]|    1.0|This game is bug ...|12 26, 2011|A10AYT89XSCE46|        Paulo Coelho|Colin McRae CRASH 3!|    1324857600|[this, game, is, ...|[game, bug, landf...|(2000,[1,47,72,10...|\n",
            "|0700099867|  [3, 3]|    1.0|DiRT 2 was like t...|11 23, 2013|A29KT7UP7DLM1J|        Peter Ostman|The first one was...|    1385164800|[dirt, 2, was, li...|[dirt, 2, like, t...|(2000,[0,1,2,3,5,...|\n",
            "+----------+--------+-------+--------------------+-----------+--------------+--------------------+--------------------+--------------+--------------------+--------------------+--------------------+\n",
            "only showing top 20 rows\n",
            "\n"
          ],
          "name": "stdout"
        }
      ]
    },
    {
      "cell_type": "code",
      "metadata": {
        "id": "xwh5Zhho4EzH",
        "colab_type": "code",
        "colab": {}
      },
      "source": [
        "assembler = VectorAssembler(\n",
        "    inputCols = [\"countedWords\"],\n",
        "    outputCol = \"features\")\n",
        "\n",
        "output = assembler.transform(newDf)\n",
        "output = output.select(col(\"overall\").alias(\"label\"),col(\"features\"))\n"
      ],
      "execution_count": 0,
      "outputs": []
    },
    {
      "cell_type": "code",
      "metadata": {
        "id": "4yrmhnrj4pbm",
        "colab_type": "code",
        "colab": {}
      },
      "source": [
        "from pyspark.ml import Pipeline\n",
        "from pyspark.ml.regression import GBTRegressor\n",
        "from pyspark.ml.feature import VectorIndexer\n",
        "\n",
        "\n",
        "sc.setLogLevel(\"DEBUG\")\n",
        "(trainingData, testData) = output.randomSplit([0.7,0.3])\n",
        "gbt = GBTRegressor(featuresCol=\"features\")\n",
        "\n",
        "pipeline = Pipeline(stages=[gbt])\n",
        "model = pipeline.fit(trainingData)\n",
        "#10 minutes with no max iteration"
      ],
      "execution_count": 0,
      "outputs": []
    },
    {
      "cell_type": "code",
      "metadata": {
        "id": "6EJih6HO4-Sp",
        "colab_type": "code",
        "colab": {}
      },
      "source": [
        "predictions = model.transform(testData)"
      ],
      "execution_count": 0,
      "outputs": []
    },
    {
      "cell_type": "code",
      "metadata": {
        "id": "TL38XNSx69yu",
        "colab_type": "code",
        "outputId": "ef6584ac-e5ec-41b2-acd9-9fc5f2dab80c",
        "colab": {
          "base_uri": "https://localhost:8080/",
          "height": 1000
        }
      },
      "source": [
        "predictions.show(100)"
      ],
      "execution_count": 0,
      "outputs": [
        {
          "output_type": "stream",
          "text": [
            "+-----+--------------------+------------------+\n",
            "|label|            features|        prediction|\n",
            "+-----+--------------------+------------------+\n",
            "|  1.0|        (2000,[],[])|4.0564369495986705|\n",
            "|  1.0|        (2000,[],[])|4.0564369495986705|\n",
            "|  1.0|(2000,[0,1,2,3,4,...| 2.661828832283631|\n",
            "|  1.0|(2000,[0,1,2,3,4,...|   3.2967927945398|\n",
            "|  1.0|(2000,[0,1,2,3,4,...| 3.386578978831921|\n",
            "|  1.0|(2000,[0,1,2,3,4,...|2.8670581829674546|\n",
            "|  1.0|(2000,[0,1,2,3,4,...| 4.216047454879624|\n",
            "|  1.0|(2000,[0,1,2,3,4,...|3.8030895978301302|\n",
            "|  1.0|(2000,[0,1,2,3,4,...|3.6292877488889976|\n",
            "|  1.0|(2000,[0,1,2,3,4,...| 4.265135461829432|\n",
            "|  1.0|(2000,[0,1,2,3,4,...| 3.673055737768444|\n",
            "|  1.0|(2000,[0,1,2,3,4,...| 4.239083516933368|\n",
            "|  1.0|(2000,[0,1,2,3,4,...| 2.992138613807334|\n",
            "|  1.0|(2000,[0,1,2,3,4,...|1.8072936646290485|\n",
            "|  1.0|(2000,[0,1,2,3,4,...|3.7174162551822194|\n",
            "|  1.0|(2000,[0,1,2,3,4,...|3.9188649455641515|\n",
            "|  1.0|(2000,[0,1,2,3,4,...|3.5587055666134035|\n",
            "|  1.0|(2000,[0,1,2,3,4,...|2.8070797239522185|\n",
            "|  1.0|(2000,[0,1,2,3,4,...|2.9555057847426713|\n",
            "|  1.0|(2000,[0,1,2,3,4,...| 3.067049612949323|\n",
            "|  1.0|(2000,[0,1,2,3,4,...| 3.782056045539287|\n",
            "|  1.0|(2000,[0,1,2,3,4,...|1.9955241107505282|\n",
            "|  1.0|(2000,[0,1,2,3,4,...| 3.592781227816663|\n",
            "|  1.0|(2000,[0,1,2,3,4,...|3.4975120638077515|\n",
            "|  1.0|(2000,[0,1,2,3,4,...| 3.876704904627932|\n",
            "|  1.0|(2000,[0,1,2,3,4,...|1.3190300258145444|\n",
            "|  1.0|(2000,[0,1,2,3,4,...| 4.271982065410032|\n",
            "|  1.0|(2000,[0,1,2,3,4,...| 2.871221470691439|\n",
            "|  1.0|(2000,[0,1,2,3,4,...|3.4982643470001276|\n",
            "|  1.0|(2000,[0,1,2,3,4,...| 2.644348840417171|\n",
            "|  1.0|(2000,[0,1,2,3,4,...| 2.762665249907531|\n",
            "|  1.0|(2000,[0,1,2,3,4,...|1.4731260510381103|\n",
            "|  1.0|(2000,[0,1,2,3,4,...|3.4112580723209276|\n",
            "|  1.0|(2000,[0,1,2,3,4,...|2.2368305847189958|\n",
            "|  1.0|(2000,[0,1,2,3,4,...|3.5528984492629476|\n",
            "|  1.0|(2000,[0,1,2,3,4,...| 3.035416191889441|\n",
            "|  1.0|(2000,[0,1,2,3,4,...|3.1316456030740336|\n",
            "|  1.0|(2000,[0,1,2,3,4,...|3.4785256616192255|\n",
            "|  1.0|(2000,[0,1,2,3,4,...| 4.021933609923779|\n",
            "|  1.0|(2000,[0,1,2,3,4,...| 4.279300793541903|\n",
            "|  1.0|(2000,[0,1,2,3,4,...| 3.901032631269677|\n",
            "|  1.0|(2000,[0,1,2,3,4,...| 3.554417232860018|\n",
            "|  1.0|(2000,[0,1,2,3,4,...|2.8278311809620766|\n",
            "|  1.0|(2000,[0,1,2,3,4,...|2.9509036850732304|\n",
            "|  1.0|(2000,[0,1,2,3,4,...|3.0500266701637098|\n",
            "|  1.0|(2000,[0,1,2,3,4,...|3.6493464334468104|\n",
            "|  1.0|(2000,[0,1,2,3,4,...| 3.538284954914074|\n",
            "|  1.0|(2000,[0,1,2,3,4,...| 3.780844388105717|\n",
            "|  1.0|(2000,[0,1,2,3,4,...| 2.143476128593926|\n",
            "|  1.0|(2000,[0,1,2,3,4,...| 3.729017973802164|\n",
            "|  1.0|(2000,[0,1,2,3,4,...| 4.159144923219865|\n",
            "|  1.0|(2000,[0,1,2,3,4,...| 2.089284087699495|\n",
            "|  1.0|(2000,[0,1,2,3,4,...| 3.493789173873767|\n",
            "|  1.0|(2000,[0,1,2,3,4,...|  3.40037885900796|\n",
            "|  1.0|(2000,[0,1,2,3,4,...|3.8139887397967134|\n",
            "|  1.0|(2000,[0,1,2,3,4,...|3.7778278413486923|\n",
            "|  1.0|(2000,[0,1,2,3,4,...| 3.145416935345098|\n",
            "|  1.0|(2000,[0,1,2,3,4,...|  4.08977238719396|\n",
            "|  1.0|(2000,[0,1,2,3,4,...|1.1110040607195468|\n",
            "|  1.0|(2000,[0,1,2,3,4,...| 3.907232689675805|\n",
            "|  1.0|(2000,[0,1,2,3,4,...| 3.464439416964715|\n",
            "|  1.0|(2000,[0,1,2,3,4,...| 4.518175014771171|\n",
            "|  1.0|(2000,[0,1,2,3,4,...|4.2182784684154315|\n",
            "|  1.0|(2000,[0,1,2,3,4,...| 4.028827852305015|\n",
            "|  1.0|(2000,[0,1,2,3,4,...|3.8048184375260963|\n",
            "|  1.0|(2000,[0,1,2,3,4,...|3.3817602761489893|\n",
            "|  1.0|(2000,[0,1,2,3,5,...|3.6568207371278043|\n",
            "|  1.0|(2000,[0,1,2,3,5,...|2.9765955329511207|\n",
            "|  1.0|(2000,[0,1,2,3,5,...| 4.027324428482615|\n",
            "|  1.0|(2000,[0,1,2,3,5,...|1.2340766299405144|\n",
            "|  1.0|(2000,[0,1,2,3,5,...| 4.185869983320186|\n",
            "|  1.0|(2000,[0,1,2,3,5,...|3.9200595963503773|\n",
            "|  1.0|(2000,[0,1,2,3,5,...| 3.937002069002145|\n",
            "|  1.0|(2000,[0,1,2,3,5,...|1.6282344951075212|\n",
            "|  1.0|(2000,[0,1,2,3,5,...|3.6953948055166865|\n",
            "|  1.0|(2000,[0,1,2,3,5,...| 3.597320810231641|\n",
            "|  1.0|(2000,[0,1,2,3,5,...| 4.349378519569254|\n",
            "|  1.0|(2000,[0,1,2,3,6,...|3.8192546147897826|\n",
            "|  1.0|(2000,[0,1,2,3,6,...| 3.077188025643081|\n",
            "|  1.0|(2000,[0,1,2,3,6,...|3.6324933005537985|\n",
            "|  1.0|(2000,[0,1,2,3,6,...|1.9300433455716366|\n",
            "|  1.0|(2000,[0,1,2,3,6,...| 3.831056733270211|\n",
            "|  1.0|(2000,[0,1,2,3,6,...| 3.917323222302881|\n",
            "|  1.0|(2000,[0,1,2,3,6,...|4.4556829595212974|\n",
            "|  1.0|(2000,[0,1,2,3,6,...|  4.25686998649998|\n",
            "|  1.0|(2000,[0,1,2,3,6,...| 4.100704623242788|\n",
            "|  1.0|(2000,[0,1,2,3,6,...|3.3298622758821583|\n",
            "|  1.0|(2000,[0,1,2,3,6,...|2.8620312731264055|\n",
            "|  1.0|(2000,[0,1,2,3,7,...| 4.103556746749854|\n",
            "|  1.0|(2000,[0,1,2,3,7,...|  4.25062337556001|\n",
            "|  1.0|(2000,[0,1,2,3,7,...|1.6100103688536072|\n",
            "|  1.0|(2000,[0,1,2,3,7,...| 4.245858372242054|\n",
            "|  1.0|(2000,[0,1,2,3,7,...|3.4585837483418804|\n",
            "|  1.0|(2000,[0,1,2,3,8,...|1.4609501975645416|\n",
            "|  1.0|(2000,[0,1,2,3,8,...|3.2576583333160483|\n",
            "|  1.0|(2000,[0,1,2,3,8,...|4.0184804611584335|\n",
            "|  1.0|(2000,[0,1,2,3,9,...|3.2904344743396234|\n",
            "|  1.0|(2000,[0,1,2,3,10...|4.2114853011046245|\n",
            "|  1.0|(2000,[0,1,2,3,10...|3.5708877051641226|\n",
            "|  1.0|(2000,[0,1,2,3,10...|3.9795151866256595|\n",
            "+-----+--------------------+------------------+\n",
            "only showing top 100 rows\n",
            "\n"
          ],
          "name": "stdout"
        }
      ]
    },
    {
      "cell_type": "code",
      "metadata": {
        "id": "4jLRswDwWNh_",
        "colab_type": "code",
        "outputId": "832f77e7-a201-4eca-ab73-cfbb5555cf5d",
        "colab": {
          "base_uri": "https://localhost:8080/",
          "height": 34
        }
      },
      "source": [
        "from pyspark.ml.evaluation import RegressionEvaluator\n",
        "\n",
        "evaluator = RegressionEvaluator(\n",
        "        labelCol=\"label\", predictionCol=\"prediction\", metricName=\"rmse\")\n",
        "rmse = evaluator.evaluate(predictions)\n",
        "print(\"Root Mean Squared Error (RMSE) on test data = %g\" % rmse)"
      ],
      "execution_count": 0,
      "outputs": [
        {
          "output_type": "stream",
          "text": [
            "Root Mean Squared Error (RMSE) on test data = 1.06739\n"
          ],
          "name": "stdout"
        }
      ]
    },
    {
      "cell_type": "code",
      "metadata": {
        "id": "hYIsoygWZzZZ",
        "colab_type": "code",
        "colab": {}
      },
      "source": [
        ""
      ],
      "execution_count": 0,
      "outputs": []
    }
  ]
}