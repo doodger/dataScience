{
  "nbformat": 4,
  "nbformat_minor": 0,
  "metadata": {
    "colab": {
      "name": "finance.ipynb",
      "provenance": [],
      "authorship_tag": "ABX9TyNGYys/k8KNCD8iKdMGtIHz",
      "include_colab_link": true
    },
    "kernelspec": {
      "name": "python3",
      "display_name": "Python 3"
    }
  },
  "cells": [
    {
      "cell_type": "markdown",
      "metadata": {
        "id": "view-in-github",
        "colab_type": "text"
      },
      "source": [
        "<a href=\"https://colab.research.google.com/github/doodger/dataScience/blob/master/finance.ipynb\" target=\"_parent\"><img src=\"https://colab.research.google.com/assets/colab-badge.svg\" alt=\"Open In Colab\"/></a>"
      ]
    },
    {
      "cell_type": "markdown",
      "metadata": {
        "id": "19eG6l2c9bwc",
        "colab_type": "text"
      },
      "source": [
        "## Under construction\n",
        "This project seeks to compare historical American demographic trends and S&P 500 trends"
      ]
    },
    {
      "cell_type": "code",
      "metadata": {
        "id": "YXeXiRUv9ZVD",
        "colab_type": "code",
        "colab": {}
      },
      "source": [
        "#General Imports\n",
        "import pandas as pd\n",
        "import numpy as np\n",
        "import matplotlib.pyplot as plt"
      ],
      "execution_count": 0,
      "outputs": []
    },
    {
      "cell_type": "code",
      "metadata": {
        "id": "mKliqIsK-DS3",
        "colab_type": "code",
        "outputId": "f76a315f-f4c1-4c1b-eb0f-a2d0363e107b",
        "colab": {
          "base_uri": "https://localhost:8080/",
          "height": 34
        }
      },
      "source": [
        "#Data imports\n",
        "populationURL = \"https://raw.githubusercontent.com/doodger/dataScience/master/38f6e261-94a4-4bdf-b5db-5d75022e46bb_Data.csv\"\n",
        "SaP500URL = \"https://raw.githubusercontent.com/doodger/dataScience/master/%5EGSPC.csv\"\n",
        "\n",
        "pop_df = pd.read_csv(populationURL)\n",
        "sap_df = pd.read_csv(SaP500URL)\n",
        "\n",
        "##Data cleaning and sorting for the population\n",
        "\n",
        "#Demographics data\n",
        "pop_df.head()\n",
        "#Rows 35,36 and 37 are rows of Nan\n",
        "#Rows 38 and 39 only have a value at the head, detailling the database's World bank origin\n",
        "\n",
        "print(\"Total missing value for rows 0 to 34:\",pop_df.loc[0:34].isnull().sum().sum())\n",
        "pop_df = pop_df.loc[0:34]\n",
        "\n",
        "#With the un-needed rows cut off, the dataframe can be reordered so that the rows of population groups\n",
        "#    are in chronological order\n",
        "pop_df = pop_df.sort_values(\"Series Code\")\n",
        "#Row 21 is superfluous (65+ women), and can be deleted. The index are then labeled to a proper order\n",
        "pop_df = pop_df.drop([21])\n",
        "pop_df.index= [i for i in range(34)]\n",
        "#The 17 age groups are now in ascending order for both women and men"
      ],
      "execution_count": 6,
      "outputs": [
        {
          "output_type": "stream",
          "text": [
            "Total missing value for rows 0 to 34: 0\n"
          ],
          "name": "stdout"
        }
      ]
    },
    {
      "cell_type": "code",
      "metadata": {
        "id": "ePzLk07X--Aq",
        "colab_type": "code",
        "outputId": "52564a9b-0488-4bb5-ac39-90be08671141",
        "colab": {
          "base_uri": "https://localhost:8080/",
          "height": 295
        }
      },
      "source": [
        "##Visualization\n",
        "\n",
        "#Sample age pyramid for 1960\n",
        "yMen = [pop_df.loc[i,\"1960 [YR1960]\"] for i in range(1,34,2)]\n",
        "yWomen = [-pop_df.loc[i,\"1960 [YR1960]\"] for i in range(1,34,2)]\n",
        "#Here the women's number will be in the negative by convention\n",
        "\n",
        "\n",
        "x = [i for i in range(17)]\n",
        "ax = plt.subplot(111)\n",
        "ax.barh(x,yMen)\n",
        "ax.barh(x,yWomen)\n",
        "plt.xlabel(\"Percentage of the population\")\n",
        "ax.set_title(\"Population pyramid for 1960 in the united states\")\n",
        "plt.show()\n"
      ],
      "execution_count": 14,
      "outputs": [
        {
          "output_type": "display_data",
          "data": {
            "image/png": "[encoded data removed]",
            "text/plain": [
              "<Figure size 432x288 with 1 Axes>"
            ]
          },
          "metadata": {
            "tags": []
          }
        }
      ]
    },
    {
      "cell_type": "code",
      "metadata": {
        "id": "fs5VkzDdJfJL",
        "colab_type": "code",
        "outputId": "4116af70-b2a8-4dc4-e732-429bbd2c1f84",
        "colab": {
          "base_uri": "https://localhost:8080/",
          "height": 296
        }
      },
      "source": [
        "#Financial data\n",
        "sap_df.head()\n",
        "print(\"Total missing value for S&P data:\",sap_df.isnull().sum().sum())\n",
        "#The population data only extends to 2018, and so the 2019 data of the S&P can be cut\n",
        "#2019 data is from row 708 onward\n",
        "sap_df = sap_df.loc[0:707]\n",
        "\n",
        "#History of the S&P500 \n",
        "sap_df.plot.line(x=\"Date\",y=\"Close\")\n",
        "\n",
        "#Turning the monthly stock market data into annualized data to compare it with the population will be helpful\n",
        "#To do this a set of yearly statistics for the S&P data will be calculated and afterward both dataframes will be merged into one consolidated dataframe\n",
        "columns = [\"year\",\"avgClose\",\"volatility\",\n",
        "           \"0t4F\",\"5t9F\",\"10t14F\",\"15t19F\",\"20t24F\",\n",
        "           \"25t29F\",\"30t34F\",\"35t39F\",\"40t44F\",\"45t49F\",\n",
        "           \"50t54F\",\"55t59F\",\"60t64F\",\"65t69F\",\"70t74F\",\n",
        "           \"75t79F\",\"80pF\",\"0t4M\",\"5t9M\",\"10t14M\",\"15t19M\",\"20t24M\",\n",
        "           \"25t29M\",\"30t34M\",\"35t39M\",\"40t44M\",\"45t49M\",\n",
        "           \"50t54M\",\"55t59M\",\"60t64M\",\"65t69M\",\"70t74M\",\n",
        "           \"75t79M\",\"80pM\"]\n",
        "merged_df = pd.DataFrame(columns=columns)"
      ],
      "execution_count": 28,
      "outputs": [
        {
          "output_type": "stream",
          "text": [
            "Total missing value for S&P data: 0\n"
          ],
          "name": "stdout"
        },
        {
          "output_type": "display_data",
          "data": {
            "image/png": "[encoded data removed]",
            "text/plain": [
              "<Figure size 432x288 with 1 Axes>"
            ]
          },
          "metadata": {
            "tags": []
          }
        }
      ]
    },
    {
      "cell_type": "markdown",
      "metadata": {
        "id": "GeGxhczVML62",
        "colab_type": "text"
      },
      "source": [
        "## Exploratory data analysis\n",
        "Ideas:\n",
        "\n",
        "*  Volume?\n",
        "*  Price increase?\n",
        "*  Correlation between upward/downward mobility and # of youth/old\n",
        "\n"
      ]
    },
    {
      "cell_type": "code",
      "metadata": {
        "id": "gAZNKTQIyKG-",
        "colab_type": "code",
        "colab": {}
      },
      "source": [
        ""
      ],
      "execution_count": 0,
      "outputs": []
    },
    {
      "cell_type": "code",
      "metadata": {
        "id": "K-trbLCK6Zgw",
        "colab_type": "code",
        "outputId": "6084fa60-2caf-48ca-8518-45e26a8c55e2",
        "colab": {
          "base_uri": "https://localhost:8080/",
          "height": 419
        }
      },
      "source": [
        "sap_df"
      ],
      "execution_count": 31,
      "outputs": [
        {
          "output_type": "execute_result",
          "data": {
            "text/html": [
              "<div>\n",
              "<style scoped>\n",
              "    .dataframe tbody tr th:only-of-type {\n",
              "        vertical-align: middle;\n",
              "    }\n",
              "\n",
              "    .dataframe tbody tr th {\n",
              "        vertical-align: top;\n",
              "    }\n",
              "\n",
              "    .dataframe thead th {\n",
              "        text-align: right;\n",
              "    }\n",
              "</style>\n",
              "<table border=\"1\" class=\"dataframe\">\n",
              "  <thead>\n",
              "    <tr style=\"text-align: right;\">\n",
              "      <th></th>\n",
              "      <th>Date</th>\n",
              "      <th>Open</th>\n",
              "      <th>High</th>\n",
              "      <th>Low</th>\n",
              "      <th>Close</th>\n",
              "      <th>Adj Close</th>\n",
              "      <th>Volume</th>\n",
              "    </tr>\n",
              "  </thead>\n",
              "  <tbody>\n",
              "    <tr>\n",
              "      <th>0</th>\n",
              "      <td>1960-01-01</td>\n",
              "      <td>59.910000</td>\n",
              "      <td>60.389999</td>\n",
              "      <td>55.610001</td>\n",
              "      <td>55.610001</td>\n",
              "      <td>55.610001</td>\n",
              "      <td>63920000</td>\n",
              "    </tr>\n",
              "    <tr>\n",
              "      <th>1</th>\n",
              "      <td>1960-02-01</td>\n",
              "      <td>55.959999</td>\n",
              "      <td>56.820000</td>\n",
              "      <td>54.730000</td>\n",
              "      <td>56.119999</td>\n",
              "      <td>56.119999</td>\n",
              "      <td>60500000</td>\n",
              "    </tr>\n",
              "    <tr>\n",
              "      <th>2</th>\n",
              "      <td>1960-03-01</td>\n",
              "      <td>56.009998</td>\n",
              "      <td>56.009998</td>\n",
              "      <td>53.470001</td>\n",
              "      <td>55.340000</td>\n",
              "      <td>55.340000</td>\n",
              "      <td>65710000</td>\n",
              "    </tr>\n",
              "    <tr>\n",
              "      <th>3</th>\n",
              "      <td>1960-04-01</td>\n",
              "      <td>55.430000</td>\n",
              "      <td>56.590000</td>\n",
              "      <td>54.369999</td>\n",
              "      <td>54.369999</td>\n",
              "      <td>54.369999</td>\n",
              "      <td>57300000</td>\n",
              "    </tr>\n",
              "    <tr>\n",
              "      <th>4</th>\n",
              "      <td>1960-05-01</td>\n",
              "      <td>54.130001</td>\n",
              "      <td>55.830002</td>\n",
              "      <td>54.130001</td>\n",
              "      <td>55.830002</td>\n",
              "      <td>55.830002</td>\n",
              "      <td>68790000</td>\n",
              "    </tr>\n",
              "    <tr>\n",
              "      <th>...</th>\n",
              "      <td>...</td>\n",
              "      <td>...</td>\n",
              "      <td>...</td>\n",
              "      <td>...</td>\n",
              "      <td>...</td>\n",
              "      <td>...</td>\n",
              "      <td>...</td>\n",
              "    </tr>\n",
              "    <tr>\n",
              "      <th>703</th>\n",
              "      <td>2018-08-01</td>\n",
              "      <td>2821.169922</td>\n",
              "      <td>2916.500000</td>\n",
              "      <td>2796.340088</td>\n",
              "      <td>2901.520020</td>\n",
              "      <td>2901.520020</td>\n",
              "      <td>69238220000</td>\n",
              "    </tr>\n",
              "    <tr>\n",
              "      <th>704</th>\n",
              "      <td>2018-09-01</td>\n",
              "      <td>2896.959961</td>\n",
              "      <td>2940.909912</td>\n",
              "      <td>2864.120117</td>\n",
              "      <td>2913.979980</td>\n",
              "      <td>2913.979980</td>\n",
              "      <td>62492080000</td>\n",
              "    </tr>\n",
              "    <tr>\n",
              "      <th>705</th>\n",
              "      <td>2018-10-01</td>\n",
              "      <td>2926.290039</td>\n",
              "      <td>2939.860107</td>\n",
              "      <td>2603.540039</td>\n",
              "      <td>2711.739990</td>\n",
              "      <td>2711.739990</td>\n",
              "      <td>91327930000</td>\n",
              "    </tr>\n",
              "    <tr>\n",
              "      <th>706</th>\n",
              "      <td>2018-11-01</td>\n",
              "      <td>2717.580078</td>\n",
              "      <td>2815.149902</td>\n",
              "      <td>2631.090088</td>\n",
              "      <td>2760.169922</td>\n",
              "      <td>2760.169922</td>\n",
              "      <td>80080110000</td>\n",
              "    </tr>\n",
              "    <tr>\n",
              "      <th>707</th>\n",
              "      <td>2018-12-01</td>\n",
              "      <td>2790.500000</td>\n",
              "      <td>2800.179932</td>\n",
              "      <td>2346.580078</td>\n",
              "      <td>2506.850098</td>\n",
              "      <td>2506.850098</td>\n",
              "      <td>83522570000</td>\n",
              "    </tr>\n",
              "  </tbody>\n",
              "</table>\n",
              "<p>708 rows × 7 columns</p>\n",
              "</div>"
            ],
            "text/plain": [
              "           Date         Open  ...    Adj Close       Volume\n",
              "0    1960-01-01    59.910000  ...    55.610001     63920000\n",
              "1    1960-02-01    55.959999  ...    56.119999     60500000\n",
              "2    1960-03-01    56.009998  ...    55.340000     65710000\n",
              "3    1960-04-01    55.430000  ...    54.369999     57300000\n",
              "4    1960-05-01    54.130001  ...    55.830002     68790000\n",
              "..          ...          ...  ...          ...          ...\n",
              "703  2018-08-01  2821.169922  ...  2901.520020  69238220000\n",
              "704  2018-09-01  2896.959961  ...  2913.979980  62492080000\n",
              "705  2018-10-01  2926.290039  ...  2711.739990  91327930000\n",
              "706  2018-11-01  2717.580078  ...  2760.169922  80080110000\n",
              "707  2018-12-01  2790.500000  ...  2506.850098  83522570000\n",
              "\n",
              "[708 rows x 7 columns]"
            ]
          },
          "metadata": {
            "tags": []
          },
          "execution_count": 31
        }
      ]
    },
    {
      "cell_type": "code",
      "metadata": {
        "id": "Vm7wwM-N-UBP",
        "colab_type": "code",
        "colab": {}
      },
      "source": [
        "\n"
      ],
      "execution_count": 0,
      "outputs": []
    },
    {
      "cell_type": "markdown",
      "metadata": {
        "id": "kgdORcw8_TfA",
        "colab_type": "text"
      },
      "source": [
        "TODO\n",
        "\n",
        "\n",
        "*   Time series of S&P data\n",
        "*   reoorder demographics data\n",
        "*   dropping a row only once? pop_df[21]\n",
        "*   cleaning the name of the rows and columns?\n",
        "*   better age pyramid (inverse y axis, positive label instead of negative for women)\n",
        "*   might be good to put the stock market data on yearly base\n",
        "*   Monthly volatility into yearly volatility?\n",
        "\n"
      ]
    },
    {
      "cell_type": "code",
      "metadata": {
        "id": "g77WDZ6DHuU4",
        "colab_type": "code",
        "colab": {}
      },
      "source": [
        ""
      ],
      "execution_count": 0,
      "outputs": []
    }
  ]
}