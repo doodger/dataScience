{
  "nbformat": 4,
  "nbformat_minor": 0,
  "metadata": {
    "colab": {
      "name": "finance.ipynb",
      "provenance": [],
      "authorship_tag": "ABX9TyNknpnAt1Q2Pb4Pzi9nymlr",
      "include_colab_link": true
    },
    "kernelspec": {
      "name": "python3",
      "display_name": "Python 3"
    }
  },
  "cells": [
    {
      "cell_type": "markdown",
      "metadata": {
        "id": "view-in-github",
        "colab_type": "text"
      },
      "source": [
        "<a href=\"https://colab.research.google.com/github/doodger/dataScience/blob/master/finance.ipynb\" target=\"_parent\"><img src=\"https://colab.research.google.com/assets/colab-badge.svg\" alt=\"Open In Colab\"/></a>"
      ]
    },
    {
      "cell_type": "markdown",
      "metadata": {
        "id": "19eG6l2c9bwc",
        "colab_type": "text"
      },
      "source": [
        "## Under construction\n",
        "This project seeks to compare historical American demographic trends and S&P 500 trends"
      ]
    },
    {
      "cell_type": "code",
      "metadata": {
        "id": "YXeXiRUv9ZVD",
        "colab_type": "code",
        "colab": {}
      },
      "source": [
        "#General Imports\n",
        "import pandas as pd\n",
        "import numpy as np\n",
        "import matplotlib.pyplot as plt"
      ],
      "execution_count": 0,
      "outputs": []
    },
    {
      "cell_type": "code",
      "metadata": {
        "id": "mKliqIsK-DS3",
        "colab_type": "code",
        "colab": {
          "base_uri": "https://localhost:8080/",
          "height": 34
        },
        "outputId": "3631a5a9-79c1-47eb-a457-ce43177ad51b"
      },
      "source": [
        "#Data imports\n",
        "populationURL = \"https://raw.githubusercontent.com/doodger/dataScience/master/38f6e261-94a4-4bdf-b5db-5d75022e46bb_Data.csv\"\n",
        "SaP500URL = \"https://raw.githubusercontent.com/doodger/dataScience/master/%5EGSPC.csv\"\n",
        "\n",
        "pop_df = pd.read_csv(populationURL)\n",
        "sap_df = pd.read_csv(SaP500URL)\n",
        "\n",
        "##Data cleaning and sorting for the population\n",
        "\n",
        "#Demographics data\n",
        "pop_df.head()\n",
        "#Rows 35,36 and 37 are rows of Nan\n",
        "#Rows 38 and 39 only have a value at the head, detailling the database's World bank origin\n",
        "\n",
        "print(\"Total missing value for rows 0 to 34:\",pop_df.loc[0:34].isnull().sum().sum())\n",
        "pop_df = pop_df.loc[0:34]\n",
        "\n",
        "#With the un-needed rows cut off, the dataframe can be reordered so that the rows of population groups\n",
        "#    are in chronological order\n",
        "pop_df = pop_df.sort_values(\"Series Code\")\n",
        "#Row 21 is superfluous (65+ women), and can be deleted. The index are then labeled to a proper order\n",
        "pop_df = pop_df.drop([21])\n",
        "pop_df.index= [i for i in range(34)]\n",
        "#The 17 age groups are now in ascending order for both women and men"
      ],
      "execution_count": 93,
      "outputs": [
        {
          "output_type": "stream",
          "text": [
            "Total missing value for rows 0 to 34: 0\n"
          ],
          "name": "stdout"
        }
      ]
    },
    {
      "cell_type": "code",
      "metadata": {
        "id": "gYH1mbShH0FW",
        "colab_type": "code",
        "colab": {}
      },
      "source": [
        ""
      ],
      "execution_count": 0,
      "outputs": []
    },
    {
      "cell_type": "code",
      "metadata": {
        "id": "ePzLk07X--Aq",
        "colab_type": "code",
        "outputId": "508e10e1-11a2-42a4-f2e3-07139370636c",
        "colab": {
          "base_uri": "https://localhost:8080/",
          "height": 298
        }
      },
      "source": [
        "##Visualization\n",
        "pop_df.loc[i,\"1960 [YR1960]\"]\n",
        "#Sample age pyramid for 1960\n",
        "yMen = [pop_df.loc[i,\"1960 [YR1960]\"] for i in range(1,34,2)]\n",
        "yWomen = [-pop_df.loc[i,\"1960 [YR1960]\"] for i in range(1,34,2)]\n",
        "#Here the women's number will be in the negative by convention\n",
        "\n",
        "\n",
        "x = [i for i in range(17)]\n",
        "print(ax.get_ylabel())\n",
        "ax = plt.subplot(111)\n",
        "ax.barh(x,yMen)\n",
        "ax.barh(x,yWomen)\n",
        "ax.set_title(\"Population pyramid for 1960 in the united states\")\n",
        "plt.show()\n"
      ],
      "execution_count": 94,
      "outputs": [
        {
          "output_type": "stream",
          "text": [
            "\n"
          ],
          "name": "stdout"
        },
        {
          "output_type": "display_data",
          "data": {
            "image/png": "[encoded data removed]",
            "text/plain": [
              "<Figure size 432x288 with 1 Axes>"
            ]
          },
          "metadata": {
            "tags": []
          }
        }
      ]
    },
    {
      "cell_type": "code",
      "metadata": {
        "id": "fs5VkzDdJfJL",
        "colab_type": "code",
        "colab": {
          "base_uri": "https://localhost:8080/",
          "height": 313
        },
        "outputId": "9e3083ba-1ea0-4480-9289-76325b0a7e24"
      },
      "source": [
        "#Financial data\n",
        "sap_df.head()\n",
        "print(\"Total missing value for S&P data:\",sap_df.isnull().sum().sum())\n",
        "\n",
        "sap_df.plot.line(x=\"Date\",y=\"Close\")"
      ],
      "execution_count": 102,
      "outputs": [
        {
          "output_type": "stream",
          "text": [
            "Total missing value for S&P data: 0\n"
          ],
          "name": "stdout"
        },
        {
          "output_type": "execute_result",
          "data": {
            "text/plain": [
              "<matplotlib.axes._subplots.AxesSubplot at 0x7f51fe709b00>"
            ]
          },
          "metadata": {
            "tags": []
          },
          "execution_count": 102
        },
        {
          "output_type": "display_data",
          "data": {
            "image/png": "[encoded data removed]",
            "text/plain": [
              "<Figure size 432x288 with 1 Axes>"
            ]
          },
          "metadata": {
            "tags": []
          }
        }
      ]
    },
    {
      "cell_type": "markdown",
      "metadata": {
        "id": "GeGxhczVML62",
        "colab_type": "text"
      },
      "source": [
        "## Exploratory data analysis\n",
        "Ideas:\n",
        "\n",
        "*  Volume?\n",
        "*  Price increase?\n",
        "\n"
      ]
    },
    {
      "cell_type": "code",
      "metadata": {
        "id": "K-trbLCK6Zgw",
        "colab_type": "code",
        "colab": {
          "base_uri": "https://localhost:8080/",
          "height": 419
        },
        "outputId": "6636c65e-4374-4e4e-b5ea-639178bd20fa"
      },
      "source": [
        "sap_df"
      ],
      "execution_count": 101,
      "outputs": [
        {
          "output_type": "execute_result",
          "data": {
            "text/html": [
              "<div>\n",
              "<style scoped>\n",
              "    .dataframe tbody tr th:only-of-type {\n",
              "        vertical-align: middle;\n",
              "    }\n",
              "\n",
              "    .dataframe tbody tr th {\n",
              "        vertical-align: top;\n",
              "    }\n",
              "\n",
              "    .dataframe thead th {\n",
              "        text-align: right;\n",
              "    }\n",
              "</style>\n",
              "<table border=\"1\" class=\"dataframe\">\n",
              "  <thead>\n",
              "    <tr style=\"text-align: right;\">\n",
              "      <th></th>\n",
              "      <th>Date</th>\n",
              "      <th>Open</th>\n",
              "      <th>High</th>\n",
              "      <th>Low</th>\n",
              "      <th>Close</th>\n",
              "      <th>Adj Close</th>\n",
              "      <th>Volume</th>\n",
              "    </tr>\n",
              "  </thead>\n",
              "  <tbody>\n",
              "    <tr>\n",
              "      <th>0</th>\n",
              "      <td>1960-01-01</td>\n",
              "      <td>59.910000</td>\n",
              "      <td>60.389999</td>\n",
              "      <td>55.610001</td>\n",
              "      <td>55.610001</td>\n",
              "      <td>55.610001</td>\n",
              "      <td>63920000</td>\n",
              "    </tr>\n",
              "    <tr>\n",
              "      <th>1</th>\n",
              "      <td>1960-02-01</td>\n",
              "      <td>55.959999</td>\n",
              "      <td>56.820000</td>\n",
              "      <td>54.730000</td>\n",
              "      <td>56.119999</td>\n",
              "      <td>56.119999</td>\n",
              "      <td>60500000</td>\n",
              "    </tr>\n",
              "    <tr>\n",
              "      <th>2</th>\n",
              "      <td>1960-03-01</td>\n",
              "      <td>56.009998</td>\n",
              "      <td>56.009998</td>\n",
              "      <td>53.470001</td>\n",
              "      <td>55.340000</td>\n",
              "      <td>55.340000</td>\n",
              "      <td>65710000</td>\n",
              "    </tr>\n",
              "    <tr>\n",
              "      <th>3</th>\n",
              "      <td>1960-04-01</td>\n",
              "      <td>55.430000</td>\n",
              "      <td>56.590000</td>\n",
              "      <td>54.369999</td>\n",
              "      <td>54.369999</td>\n",
              "      <td>54.369999</td>\n",
              "      <td>57300000</td>\n",
              "    </tr>\n",
              "    <tr>\n",
              "      <th>4</th>\n",
              "      <td>1960-05-01</td>\n",
              "      <td>54.130001</td>\n",
              "      <td>55.830002</td>\n",
              "      <td>54.130001</td>\n",
              "      <td>55.830002</td>\n",
              "      <td>55.830002</td>\n",
              "      <td>68790000</td>\n",
              "    </tr>\n",
              "    <tr>\n",
              "      <th>...</th>\n",
              "      <td>...</td>\n",
              "      <td>...</td>\n",
              "      <td>...</td>\n",
              "      <td>...</td>\n",
              "      <td>...</td>\n",
              "      <td>...</td>\n",
              "      <td>...</td>\n",
              "    </tr>\n",
              "    <tr>\n",
              "      <th>716</th>\n",
              "      <td>2019-09-01</td>\n",
              "      <td>2909.010010</td>\n",
              "      <td>3021.989990</td>\n",
              "      <td>2891.850098</td>\n",
              "      <td>2976.739990</td>\n",
              "      <td>2976.739990</td>\n",
              "      <td>73992330000</td>\n",
              "    </tr>\n",
              "    <tr>\n",
              "      <th>717</th>\n",
              "      <td>2019-10-01</td>\n",
              "      <td>2983.689941</td>\n",
              "      <td>3050.100098</td>\n",
              "      <td>2855.939941</td>\n",
              "      <td>3037.560059</td>\n",
              "      <td>3037.560059</td>\n",
              "      <td>77564550000</td>\n",
              "    </tr>\n",
              "    <tr>\n",
              "      <th>718</th>\n",
              "      <td>2019-11-01</td>\n",
              "      <td>3050.719971</td>\n",
              "      <td>3154.260010</td>\n",
              "      <td>3050.719971</td>\n",
              "      <td>3140.979980</td>\n",
              "      <td>3140.979980</td>\n",
              "      <td>72179920000</td>\n",
              "    </tr>\n",
              "    <tr>\n",
              "      <th>719</th>\n",
              "      <td>2019-12-01</td>\n",
              "      <td>3143.850098</td>\n",
              "      <td>3247.929932</td>\n",
              "      <td>3070.330078</td>\n",
              "      <td>3230.780029</td>\n",
              "      <td>3230.780029</td>\n",
              "      <td>72054000000</td>\n",
              "    </tr>\n",
              "    <tr>\n",
              "      <th>720</th>\n",
              "      <td>2020-01-01</td>\n",
              "      <td>3244.669922</td>\n",
              "      <td>3294.250000</td>\n",
              "      <td>3214.639893</td>\n",
              "      <td>3283.149902</td>\n",
              "      <td>3283.149902</td>\n",
              "      <td>31707750000</td>\n",
              "    </tr>\n",
              "  </tbody>\n",
              "</table>\n",
              "<p>721 rows × 7 columns</p>\n",
              "</div>"
            ],
            "text/plain": [
              "           Date         Open  ...    Adj Close       Volume\n",
              "0    1960-01-01    59.910000  ...    55.610001     63920000\n",
              "1    1960-02-01    55.959999  ...    56.119999     60500000\n",
              "2    1960-03-01    56.009998  ...    55.340000     65710000\n",
              "3    1960-04-01    55.430000  ...    54.369999     57300000\n",
              "4    1960-05-01    54.130001  ...    55.830002     68790000\n",
              "..          ...          ...  ...          ...          ...\n",
              "716  2019-09-01  2909.010010  ...  2976.739990  73992330000\n",
              "717  2019-10-01  2983.689941  ...  3037.560059  77564550000\n",
              "718  2019-11-01  3050.719971  ...  3140.979980  72179920000\n",
              "719  2019-12-01  3143.850098  ...  3230.780029  72054000000\n",
              "720  2020-01-01  3244.669922  ...  3283.149902  31707750000\n",
              "\n",
              "[721 rows x 7 columns]"
            ]
          },
          "metadata": {
            "tags": []
          },
          "execution_count": 101
        }
      ]
    },
    {
      "cell_type": "code",
      "metadata": {
        "id": "Vm7wwM-N-UBP",
        "colab_type": "code",
        "colab": {}
      },
      "source": [
        "\n"
      ],
      "execution_count": 0,
      "outputs": []
    },
    {
      "cell_type": "markdown",
      "metadata": {
        "id": "kgdORcw8_TfA",
        "colab_type": "text"
      },
      "source": [
        "TODO\n",
        "\n",
        "\n",
        "*   Time series of S&P data\n",
        "*   reoorder demographics data\n",
        "*   dropping a row only once? pop_df[21]\n",
        "*   cleaning the name of the rows and columns?\n",
        "*   better age pyramid (inverse y axis, positive label instead of negative for women)\n",
        "\n"
      ]
    },
    {
      "cell_type": "code",
      "metadata": {
        "id": "g77WDZ6DHuU4",
        "colab_type": "code",
        "colab": {}
      },
      "source": [
        ""
      ],
      "execution_count": 0,
      "outputs": []
    }
  ]
}